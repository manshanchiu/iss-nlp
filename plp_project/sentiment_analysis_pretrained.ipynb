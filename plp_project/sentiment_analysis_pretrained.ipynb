{
 "cells": [
  {
   "cell_type": "code",
   "execution_count": 6,
   "metadata": {},
   "outputs": [],
   "source": [
    "from transformers import AutoTokenizer, AutoModelForSequenceClassification\n",
    "import torch\n",
    "import pandas as pd"
   ]
  },
  {
   "cell_type": "code",
   "execution_count": 2,
   "metadata": {},
   "outputs": [],
   "source": [
    "tokenizer = AutoTokenizer.from_pretrained(\"nlptown/bert-base-multilingual-uncased-sentiment\")"
   ]
  },
  {
   "cell_type": "code",
   "execution_count": 3,
   "metadata": {},
   "outputs": [],
   "source": [
    "model = AutoModelForSequenceClassification.from_pretrained('nlptown/bert-base-multilingual-uncased-sentiment')"
   ]
  },
  {
   "cell_type": "code",
   "execution_count": 4,
   "metadata": {},
   "outputs": [],
   "source": [
    "def sentiment_score(review):\n",
    "    tokens = tokenizer.encode(review, return_tensors='pt')\n",
    "    result = model(tokens)\n",
    "    return int(torch.argmax(result.logits))+1"
   ]
  },
  {
   "cell_type": "code",
   "execution_count": 7,
   "metadata": {},
   "outputs": [],
   "source": [
    "dt_unclean = pd.read_excel(\"for_textclassification_data.xlsx\")\n",
    "df = dt_unclean.dropna(subset=[\"Comment\"])"
   ]
  },
  {
   "cell_type": "code",
   "execution_count": 8,
   "metadata": {},
   "outputs": [
    {
     "name": "stderr",
     "output_type": "stream",
     "text": [
      "C:\\Users\\Xavior\\AppData\\Local\\Temp\\ipykernel_27028\\3785995180.py:1: SettingWithCopyWarning: \n",
      "A value is trying to be set on a copy of a slice from a DataFrame.\n",
      "Try using .loc[row_indexer,col_indexer] = value instead\n",
      "\n",
      "See the caveats in the documentation: https://pandas.pydata.org/pandas-docs/stable/user_guide/indexing.html#returning-a-view-versus-a-copy\n",
      "  df['sentiment'] = df['Comment'].apply(lambda x: sentiment_score(x[:128]))\n"
     ]
    }
   ],
   "source": [
    "df['sentiment'] = df['Comment'].apply(lambda x: sentiment_score(x[:128]))"
   ]
  },
  {
   "cell_type": "code",
   "execution_count": 10,
   "metadata": {},
   "outputs": [
    {
     "data": {
      "text/plain": [
       "'Enable eStatements for Banking Investment products.'"
      ]
     },
     "execution_count": 10,
     "metadata": {},
     "output_type": "execute_result"
    }
   ],
   "source": [
    "df['Comment'].iloc[1]"
   ]
  },
  {
   "cell_type": "code",
   "execution_count": 11,
   "metadata": {},
   "outputs": [
    {
     "data": {
      "text/html": [
       "<div>\n",
       "<style scoped>\n",
       "    .dataframe tbody tr th:only-of-type {\n",
       "        vertical-align: middle;\n",
       "    }\n",
       "\n",
       "    .dataframe tbody tr th {\n",
       "        vertical-align: top;\n",
       "    }\n",
       "\n",
       "    .dataframe thead th {\n",
       "        text-align: right;\n",
       "    }\n",
       "</style>\n",
       "<table border=\"1\" class=\"dataframe\">\n",
       "  <thead>\n",
       "    <tr style=\"text-align: right;\">\n",
       "      <th></th>\n",
       "      <th>Comment</th>\n",
       "      <th>sentiment</th>\n",
       "      <th>channels</th>\n",
       "      <th>group</th>\n",
       "    </tr>\n",
       "  </thead>\n",
       "  <tbody>\n",
       "    <tr>\n",
       "      <th>5</th>\n",
       "      <td>When we view the statement especially the tran...</td>\n",
       "      <td>1</td>\n",
       "      <td>vickers</td>\n",
       "      <td>technical-statements</td>\n",
       "    </tr>\n",
       "    <tr>\n",
       "      <th>14</th>\n",
       "      <td>Enable eStatements for Banking Investment prod...</td>\n",
       "      <td>5</td>\n",
       "      <td>vickers</td>\n",
       "      <td>technical-statements</td>\n",
       "    </tr>\n",
       "    <tr>\n",
       "      <th>23</th>\n",
       "      <td>The DBS Digibank app to obtain the digital tok...</td>\n",
       "      <td>2</td>\n",
       "      <td>ib or mb</td>\n",
       "      <td>technical-logging</td>\n",
       "    </tr>\n",
       "    <tr>\n",
       "      <th>27</th>\n",
       "      <td>When I tried to return to DBS Internet Banking...</td>\n",
       "      <td>1</td>\n",
       "      <td>vickers</td>\n",
       "      <td>technical-logging</td>\n",
       "    </tr>\n",
       "    <tr>\n",
       "      <th>29</th>\n",
       "      <td>Internet banking and DBS Vickers websites are ...</td>\n",
       "      <td>1</td>\n",
       "      <td>vickers</td>\n",
       "      <td>technical-logging</td>\n",
       "    </tr>\n",
       "    <tr>\n",
       "      <th>...</th>\n",
       "      <td>...</td>\n",
       "      <td>...</td>\n",
       "      <td>...</td>\n",
       "      <td>...</td>\n",
       "    </tr>\n",
       "    <tr>\n",
       "      <th>14101</th>\n",
       "      <td>Ok</td>\n",
       "      <td>3</td>\n",
       "      <td>0</td>\n",
       "      <td>0</td>\n",
       "    </tr>\n",
       "    <tr>\n",
       "      <th>14102</th>\n",
       "      <td>exchange rate not available-2days</td>\n",
       "      <td>1</td>\n",
       "      <td>pweb</td>\n",
       "      <td>0</td>\n",
       "    </tr>\n",
       "    <tr>\n",
       "      <th>14104</th>\n",
       "      <td>Great app</td>\n",
       "      <td>5</td>\n",
       "      <td>0</td>\n",
       "      <td>0</td>\n",
       "    </tr>\n",
       "    <tr>\n",
       "      <th>14115</th>\n",
       "      <td>No</td>\n",
       "      <td>1</td>\n",
       "      <td>pweb</td>\n",
       "      <td>0</td>\n",
       "    </tr>\n",
       "    <tr>\n",
       "      <th>14126</th>\n",
       "      <td>Why am I not able to place deposits longer tha...</td>\n",
       "      <td>1</td>\n",
       "      <td>pweb</td>\n",
       "      <td>0</td>\n",
       "    </tr>\n",
       "  </tbody>\n",
       "</table>\n",
       "<p>1785 rows × 4 columns</p>\n",
       "</div>"
      ],
      "text/plain": [
       "                                                 Comment  sentiment  channels  \\\n",
       "5      When we view the statement especially the tran...          1   vickers   \n",
       "14     Enable eStatements for Banking Investment prod...          5   vickers   \n",
       "23     The DBS Digibank app to obtain the digital tok...          2  ib or mb   \n",
       "27     When I tried to return to DBS Internet Banking...          1   vickers   \n",
       "29     Internet banking and DBS Vickers websites are ...          1   vickers   \n",
       "...                                                  ...        ...       ...   \n",
       "14101                                                 Ok          3         0   \n",
       "14102                  exchange rate not available-2days          1      pweb   \n",
       "14104                                          Great app          5         0   \n",
       "14115                                                 No          1      pweb   \n",
       "14126  Why am I not able to place deposits longer tha...          1      pweb   \n",
       "\n",
       "                      group  \n",
       "5      technical-statements  \n",
       "14     technical-statements  \n",
       "23        technical-logging  \n",
       "27        technical-logging  \n",
       "29        technical-logging  \n",
       "...                     ...  \n",
       "14101                     0  \n",
       "14102                     0  \n",
       "14104                     0  \n",
       "14115                     0  \n",
       "14126                     0  \n",
       "\n",
       "[1785 rows x 4 columns]"
      ]
     },
     "execution_count": 11,
     "metadata": {},
     "output_type": "execute_result"
    }
   ],
   "source": [
    "df[['Comment','sentiment','channels','group']]"
   ]
  }
 ],
 "metadata": {
  "kernelspec": {
   "display_name": "Python 3",
   "language": "python",
   "name": "python3"
  },
  "language_info": {
   "codemirror_mode": {
    "name": "ipython",
    "version": 3
   },
   "file_extension": ".py",
   "mimetype": "text/x-python",
   "name": "python",
   "nbconvert_exporter": "python",
   "pygments_lexer": "ipython3",
   "version": "3.10.11"
  }
 },
 "nbformat": 4,
 "nbformat_minor": 2
}
