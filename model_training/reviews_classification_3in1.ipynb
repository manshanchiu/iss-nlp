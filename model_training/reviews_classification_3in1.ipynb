{
 "cells": [
  {
   "cell_type": "code",
   "execution_count": 1,
   "metadata": {},
   "outputs": [],
   "source": [
    "from transformers import AutoTokenizer, AutoModelForSequenceClassification, AdamW\n",
    "import torch\n",
    "import pandas as pd\n",
    "import joblib\n",
    "from transformers import BertTokenizer, BertModel"
   ]
  },
  {
   "cell_type": "code",
   "execution_count": 2,
   "metadata": {},
   "outputs": [],
   "source": [
    "channels_model = joblib.load(\"./models/channels_svm_model.pkl\")"
   ]
  },
  {
   "cell_type": "code",
   "execution_count": 3,
   "metadata": {},
   "outputs": [],
   "source": [
    "issues_model = joblib.load(\"./models/issues_svm_model.pkl\")"
   ]
  },
  {
   "cell_type": "code",
   "execution_count": 4,
   "metadata": {},
   "outputs": [],
   "source": [
    "sentiment_tokenizer = AutoTokenizer.from_pretrained(\"nlptown/bert-base-multilingual-uncased-sentiment\")"
   ]
  },
  {
   "cell_type": "code",
   "execution_count": 8,
   "metadata": {},
   "outputs": [],
   "source": [
    "sentiment_model = AutoModelForSequenceClassification.from_pretrained('nlptown/bert-base-multilingual-uncased-sentiment')"
   ]
  },
  {
   "cell_type": "code",
   "execution_count": 9,
   "metadata": {},
   "outputs": [
    {
     "name": "stderr",
     "output_type": "stream",
     "text": [
      "C:\\Users\\Xavior\\AppData\\Local\\Packages\\PythonSoftwareFoundation.Python.3.10_qbz5n2kfra8p0\\LocalCache\\local-packages\\Python310\\site-packages\\transformers\\optimization.py:411: FutureWarning: This implementation of AdamW is deprecated and will be removed in a future version. Use the PyTorch implementation torch.optim.AdamW instead, or set `no_deprecation_warning=True` to disable this warning\n",
      "  warnings.warn(\n"
     ]
    }
   ],
   "source": [
    "optimizer = AdamW(sentiment_model.parameters(),\n",
    "                  lr = 2e-5, # args.learning_rate - default is 5e-5, our notebook had 2e-5\n",
    "                  eps = 1e-8 # args.adam_epsilon  - default is 1e-8.\n",
    "                )"
   ]
  },
  {
   "cell_type": "code",
   "execution_count": 10,
   "metadata": {},
   "outputs": [],
   "source": [
    "output_file = \"./models/model_bert_sentiment2.pth\"\n",
    "checkpoint = torch.load(output_file, map_location='cpu')\n",
    "sentiment_model.load_state_dict(checkpoint['model_state_dict'])\n",
    "optimizer.load_state_dict(checkpoint['optimizer_state_dict'])"
   ]
  },
  {
   "cell_type": "code",
   "execution_count": 11,
   "metadata": {},
   "outputs": [],
   "source": [
    "# print(sentiment_model)"
   ]
  },
  {
   "cell_type": "code",
   "execution_count": 13,
   "metadata": {},
   "outputs": [],
   "source": [
    "def sentiment_score(review):\n",
    "    tokens = sentiment_tokenizer.encode(review, return_tensors='pt')\n",
    "    result = sentiment_model(tokens)\n",
    "    return int(torch.argmax(result.logits))+1"
   ]
  },
  {
   "cell_type": "code",
   "execution_count": 14,
   "metadata": {},
   "outputs": [
    {
     "name": "stderr",
     "output_type": "stream",
     "text": [
      "Some weights of the model checkpoint at bert-base-uncased were not used when initializing BertModel: ['cls.seq_relationship.weight', 'cls.predictions.bias', 'cls.predictions.transform.dense.bias', 'cls.predictions.transform.LayerNorm.weight', 'cls.predictions.transform.dense.weight', 'cls.predictions.transform.LayerNorm.bias', 'cls.seq_relationship.bias']\n",
      "- This IS expected if you are initializing BertModel from the checkpoint of a model trained on another task or with another architecture (e.g. initializing a BertForSequenceClassification model from a BertForPreTraining model).\n",
      "- This IS NOT expected if you are initializing BertModel from the checkpoint of a model that you expect to be exactly identical (initializing a BertForSequenceClassification model from a BertForSequenceClassification model).\n"
     ]
    }
   ],
   "source": [
    "# Initialize the BERT tokenizer and model\n",
    "classification_tokenizer = BertTokenizer.from_pretrained(\"bert-base-uncased\")\n",
    "classification__model = BertModel.from_pretrained(\"bert-base-uncased\")"
   ]
  },
  {
   "cell_type": "code",
   "execution_count": 15,
   "metadata": {},
   "outputs": [],
   "source": [
    "# Tokenize and generate BERT embeddings for your reviews\n",
    "def generate_bert_embeddings(text):\n",
    "    inputs = classification_tokenizer(text, padding=True, truncation=True, return_tensors=\"pt\", max_length=512)\n",
    "    with torch.no_grad():\n",
    "        outputs = classification__model(**inputs)\n",
    "    return outputs.last_hidden_state.mean(dim=1)  # Average pooling"
   ]
  },
  {
   "cell_type": "code",
   "execution_count": 16,
   "metadata": {},
   "outputs": [],
   "source": [
    "df = pd.read_excel(\"./data/reviews_for_classification.xlsx\")"
   ]
  },
  {
   "cell_type": "code",
   "execution_count": 17,
   "metadata": {},
   "outputs": [
    {
     "data": {
      "text/html": [
       "<div>\n",
       "<style scoped>\n",
       "    .dataframe tbody tr th:only-of-type {\n",
       "        vertical-align: middle;\n",
       "    }\n",
       "\n",
       "    .dataframe tbody tr th {\n",
       "        vertical-align: top;\n",
       "    }\n",
       "\n",
       "    .dataframe thead th {\n",
       "        text-align: right;\n",
       "    }\n",
       "</style>\n",
       "<table border=\"1\" class=\"dataframe\">\n",
       "  <thead>\n",
       "    <tr style=\"text-align: right;\">\n",
       "      <th></th>\n",
       "      <th>Customer</th>\n",
       "      <th>Country</th>\n",
       "      <th>Date</th>\n",
       "      <th>Rating</th>\n",
       "      <th>Title</th>\n",
       "      <th>Reviews</th>\n",
       "    </tr>\n",
       "  </thead>\n",
       "  <tbody>\n",
       "    <tr>\n",
       "      <th>0</th>\n",
       "      <td>xxx xxx</td>\n",
       "      <td>GB</td>\n",
       "      <td>Updated Apr 4, 2022</td>\n",
       "      <td>5</td>\n",
       "      <td>The best in all that matters</td>\n",
       "      <td>The best in all that matters! It's a great pla...</td>\n",
       "    </tr>\n",
       "    <tr>\n",
       "      <th>1</th>\n",
       "      <td>Javier Setovich</td>\n",
       "      <td>US</td>\n",
       "      <td>Mar 8, 2022</td>\n",
       "      <td>5</td>\n",
       "      <td>Celsius Network ROCKS!</td>\n",
       "      <td>If you are looking for the best #HomeForCrypto...</td>\n",
       "    </tr>\n",
       "    <tr>\n",
       "      <th>2</th>\n",
       "      <td>Andrei Franco</td>\n",
       "      <td>VN</td>\n",
       "      <td>Mar 23, 2022</td>\n",
       "      <td>1</td>\n",
       "      <td>I despise it so much</td>\n",
       "      <td>I despise it so much. Transferring to other wa...</td>\n",
       "    </tr>\n",
       "    <tr>\n",
       "      <th>3</th>\n",
       "      <td>Isai Garcia</td>\n",
       "      <td>US</td>\n",
       "      <td>Feb 23, 2022</td>\n",
       "      <td>1</td>\n",
       "      <td>Worst customer service and worst…</td>\n",
       "      <td>Worst customer service and worst company to de...</td>\n",
       "    </tr>\n",
       "    <tr>\n",
       "      <th>4</th>\n",
       "      <td>Tyler McMurray</td>\n",
       "      <td>US</td>\n",
       "      <td>Mar 22, 2022</td>\n",
       "      <td>5</td>\n",
       "      <td>Celsius is the BEST in Crypto</td>\n",
       "      <td>Celsius is the most transparent and responsive...</td>\n",
       "    </tr>\n",
       "    <tr>\n",
       "      <th>...</th>\n",
       "      <td>...</td>\n",
       "      <td>...</td>\n",
       "      <td>...</td>\n",
       "      <td>...</td>\n",
       "      <td>...</td>\n",
       "      <td>...</td>\n",
       "    </tr>\n",
       "    <tr>\n",
       "      <th>21961</th>\n",
       "      <td>Ujjval</td>\n",
       "      <td>US</td>\n",
       "      <td>Dec 12, 2019</td>\n",
       "      <td>1</td>\n",
       "      <td>Worst service ever</td>\n",
       "      <td>Worst service ever. I was emailed to contact t...</td>\n",
       "    </tr>\n",
       "    <tr>\n",
       "      <th>21962</th>\n",
       "      <td>Corey</td>\n",
       "      <td>US</td>\n",
       "      <td>Oct 15, 2019</td>\n",
       "      <td>5</td>\n",
       "      <td>Best banking service I ever had!</td>\n",
       "      <td>None</td>\n",
       "    </tr>\n",
       "    <tr>\n",
       "      <th>21963</th>\n",
       "      <td>Pat</td>\n",
       "      <td>US</td>\n",
       "      <td>Sep 25, 2019</td>\n",
       "      <td>5</td>\n",
       "      <td>Preferred bank for over 25+ year</td>\n",
       "      <td>PNC has been my banking partner for over 25+ y...</td>\n",
       "    </tr>\n",
       "    <tr>\n",
       "      <th>21964</th>\n",
       "      <td>Robin</td>\n",
       "      <td>US</td>\n",
       "      <td>Feb 13, 2019</td>\n",
       "      <td>5</td>\n",
       "      <td>My only most trusted bank in 11 years</td>\n",
       "      <td>My only most trusted bank in 11 years, please ...</td>\n",
       "    </tr>\n",
       "    <tr>\n",
       "      <th>21965</th>\n",
       "      <td>Raymond Ebbeler</td>\n",
       "      <td>US</td>\n",
       "      <td>Nov 28, 2018</td>\n",
       "      <td>5</td>\n",
       "      <td>Ketiurah was helpful in setting up…</td>\n",
       "      <td>Ketiurah was helpful in setting up overdraft p...</td>\n",
       "    </tr>\n",
       "  </tbody>\n",
       "</table>\n",
       "<p>21966 rows × 6 columns</p>\n",
       "</div>"
      ],
      "text/plain": [
       "              Customer Country                 Date  Rating  \\\n",
       "0              xxx xxx      GB  Updated Apr 4, 2022       5   \n",
       "1      Javier Setovich      US          Mar 8, 2022       5   \n",
       "2        Andrei Franco      VN         Mar 23, 2022       1   \n",
       "3          Isai Garcia      US         Feb 23, 2022       1   \n",
       "4       Tyler McMurray      US         Mar 22, 2022       5   \n",
       "...                ...     ...                  ...     ...   \n",
       "21961           Ujjval      US         Dec 12, 2019       1   \n",
       "21962            Corey      US         Oct 15, 2019       5   \n",
       "21963              Pat      US         Sep 25, 2019       5   \n",
       "21964            Robin      US         Feb 13, 2019       5   \n",
       "21965  Raymond Ebbeler      US         Nov 28, 2018       5   \n",
       "\n",
       "                                       Title  \\\n",
       "0               The best in all that matters   \n",
       "1                     Celsius Network ROCKS!   \n",
       "2                       I despise it so much   \n",
       "3          Worst customer service and worst…   \n",
       "4              Celsius is the BEST in Crypto   \n",
       "...                                      ...   \n",
       "21961                     Worst service ever   \n",
       "21962       Best banking service I ever had!   \n",
       "21963       Preferred bank for over 25+ year   \n",
       "21964  My only most trusted bank in 11 years   \n",
       "21965    Ketiurah was helpful in setting up…   \n",
       "\n",
       "                                                 Reviews  \n",
       "0      The best in all that matters! It's a great pla...  \n",
       "1      If you are looking for the best #HomeForCrypto...  \n",
       "2      I despise it so much. Transferring to other wa...  \n",
       "3      Worst customer service and worst company to de...  \n",
       "4      Celsius is the most transparent and responsive...  \n",
       "...                                                  ...  \n",
       "21961  Worst service ever. I was emailed to contact t...  \n",
       "21962                                               None  \n",
       "21963  PNC has been my banking partner for over 25+ y...  \n",
       "21964  My only most trusted bank in 11 years, please ...  \n",
       "21965  Ketiurah was helpful in setting up overdraft p...  \n",
       "\n",
       "[21966 rows x 6 columns]"
      ]
     },
     "execution_count": 17,
     "metadata": {},
     "output_type": "execute_result"
    }
   ],
   "source": [
    "df"
   ]
  },
  {
   "cell_type": "code",
   "execution_count": 18,
   "metadata": {},
   "outputs": [],
   "source": [
    "reviews = df.Reviews"
   ]
  },
  {
   "cell_type": "code",
   "execution_count": 19,
   "metadata": {},
   "outputs": [
    {
     "name": "stderr",
     "output_type": "stream",
     "text": [
      "Token indices sequence length is longer than the specified maximum sequence length for this model (1170 > 512). Running this sequence through the model will result in indexing errors\n"
     ]
    },
    {
     "name": "stdout",
     "output_type": "stream",
     "text": [
      "Max review length:  1170\n"
     ]
    }
   ],
   "source": [
    "max_len = 0\n",
    "\n",
    "# For every review...\n",
    "for review in reviews:\n",
    "\n",
    "    # Tokenize the text and add `[CLS]` and `[SEP]` tokens.\n",
    "    input_ids = classification_tokenizer.encode(review, add_special_tokens=True)\n",
    "\n",
    "    # Update the maximum review length.\n",
    "    max_len = max(max_len, len(input_ids))\n",
    "\n",
    "print('Max review length: ', max_len)"
   ]
  },
  {
   "cell_type": "code",
   "execution_count": 20,
   "metadata": {},
   "outputs": [],
   "source": [
    "embeddings = df.Reviews.apply(generate_bert_embeddings)"
   ]
  },
  {
   "cell_type": "code",
   "execution_count": 21,
   "metadata": {},
   "outputs": [
    {
     "data": {
      "text/plain": [
       "0        [[tensor(-0.0825), tensor(0.0907), tensor(0.40...\n",
       "1        [[tensor(0.0407), tensor(0.0364), tensor(0.622...\n",
       "2        [[tensor(0.1009), tensor(0.1393), tensor(0.376...\n",
       "3        [[tensor(0.0776), tensor(0.0434), tensor(0.342...\n",
       "4        [[tensor(-0.0458), tensor(0.0515), tensor(0.26...\n",
       "                               ...                        \n",
       "21961    [[tensor(0.2661), tensor(-0.0313), tensor(0.36...\n",
       "21962    [[tensor(0.0632), tensor(0.0832), tensor(-0.20...\n",
       "21963    [[tensor(0.1839), tensor(-0.0719), tensor(0.48...\n",
       "21964    [[tensor(0.0011), tensor(-0.1408), tensor(0.38...\n",
       "21965    [[tensor(-0.2000), tensor(-0.2570), tensor(0.2...\n",
       "Name: Reviews, Length: 21966, dtype: object"
      ]
     },
     "execution_count": 21,
     "metadata": {},
     "output_type": "execute_result"
    }
   ],
   "source": [
    "embeddings"
   ]
  },
  {
   "cell_type": "code",
   "execution_count": 22,
   "metadata": {},
   "outputs": [],
   "source": [
    "X = torch.cat(embeddings.tolist()).numpy()"
   ]
  },
  {
   "cell_type": "code",
   "execution_count": 23,
   "metadata": {},
   "outputs": [],
   "source": [
    "df[\"Channels\"] = channels_model.predict(X)"
   ]
  },
  {
   "cell_type": "code",
   "execution_count": 24,
   "metadata": {},
   "outputs": [],
   "source": [
    "df[\"Issues\"] = issues_model.predict(X)"
   ]
  },
  {
   "cell_type": "code",
   "execution_count": 25,
   "metadata": {},
   "outputs": [],
   "source": [
    "df[\"Sentiment\"] = (df['Title']+df['Reviews']).apply(lambda x: sentiment_score(x[:512]))"
   ]
  },
  {
   "cell_type": "code",
   "execution_count": 26,
   "metadata": {},
   "outputs": [],
   "source": [
    "testReview = \"The platform is decent. However, customer care and relations are awful! I got banned from their Twitter account for asking for help since I was locked out of my account. They banned me because I demanded urgent help on my support ticket since it was related to my account security. They decided to ban me so they can keep their dignity. They always say that they are doing it for the clients, but the moment someone speaks up they ban him so they can keep everything perfectly looking for the next victim. I managed to get into my account and I withdrew everything. I am not saying they are scammers, but they for sure don't know how to handle clients.\""
   ]
  },
  {
   "cell_type": "code",
   "execution_count": 27,
   "metadata": {},
   "outputs": [],
   "source": [
    "sentiment = sentiment_score(testReview[:512])"
   ]
  },
  {
   "cell_type": "code",
   "execution_count": 28,
   "metadata": {},
   "outputs": [
    {
     "data": {
      "text/plain": [
       "1"
      ]
     },
     "execution_count": 28,
     "metadata": {},
     "output_type": "execute_result"
    }
   ],
   "source": [
    "sentiment"
   ]
  },
  {
   "cell_type": "code",
   "execution_count": 29,
   "metadata": {},
   "outputs": [
    {
     "data": {
      "text/html": [
       "<div>\n",
       "<style scoped>\n",
       "    .dataframe tbody tr th:only-of-type {\n",
       "        vertical-align: middle;\n",
       "    }\n",
       "\n",
       "    .dataframe tbody tr th {\n",
       "        vertical-align: top;\n",
       "    }\n",
       "\n",
       "    .dataframe thead th {\n",
       "        text-align: right;\n",
       "    }\n",
       "</style>\n",
       "<table border=\"1\" class=\"dataframe\">\n",
       "  <thead>\n",
       "    <tr style=\"text-align: right;\">\n",
       "      <th></th>\n",
       "      <th>Customer</th>\n",
       "      <th>Country</th>\n",
       "      <th>Date</th>\n",
       "      <th>Rating</th>\n",
       "      <th>Title</th>\n",
       "      <th>Reviews</th>\n",
       "      <th>Channels</th>\n",
       "      <th>Issues</th>\n",
       "      <th>Sentiment</th>\n",
       "    </tr>\n",
       "  </thead>\n",
       "  <tbody>\n",
       "    <tr>\n",
       "      <th>0</th>\n",
       "      <td>xxx xxx</td>\n",
       "      <td>GB</td>\n",
       "      <td>Updated Apr 4, 2022</td>\n",
       "      <td>5</td>\n",
       "      <td>The best in all that matters</td>\n",
       "      <td>The best in all that matters! It's a great pla...</td>\n",
       "      <td>chatbot or live agent</td>\n",
       "      <td>0</td>\n",
       "      <td>5</td>\n",
       "    </tr>\n",
       "    <tr>\n",
       "      <th>1</th>\n",
       "      <td>Javier Setovich</td>\n",
       "      <td>US</td>\n",
       "      <td>Mar 8, 2022</td>\n",
       "      <td>5</td>\n",
       "      <td>Celsius Network ROCKS!</td>\n",
       "      <td>If you are looking for the best #HomeForCrypto...</td>\n",
       "      <td>0</td>\n",
       "      <td>0</td>\n",
       "      <td>5</td>\n",
       "    </tr>\n",
       "    <tr>\n",
       "      <th>2</th>\n",
       "      <td>Andrei Franco</td>\n",
       "      <td>VN</td>\n",
       "      <td>Mar 23, 2022</td>\n",
       "      <td>1</td>\n",
       "      <td>I despise it so much</td>\n",
       "      <td>I despise it so much. Transferring to other wa...</td>\n",
       "      <td>ib or mb</td>\n",
       "      <td>content-clarity</td>\n",
       "      <td>1</td>\n",
       "    </tr>\n",
       "    <tr>\n",
       "      <th>3</th>\n",
       "      <td>Isai Garcia</td>\n",
       "      <td>US</td>\n",
       "      <td>Feb 23, 2022</td>\n",
       "      <td>1</td>\n",
       "      <td>Worst customer service and worst…</td>\n",
       "      <td>Worst customer service and worst company to de...</td>\n",
       "      <td>mobile banking</td>\n",
       "      <td>0</td>\n",
       "      <td>1</td>\n",
       "    </tr>\n",
       "    <tr>\n",
       "      <th>4</th>\n",
       "      <td>Tyler McMurray</td>\n",
       "      <td>US</td>\n",
       "      <td>Mar 22, 2022</td>\n",
       "      <td>5</td>\n",
       "      <td>Celsius is the BEST in Crypto</td>\n",
       "      <td>Celsius is the most transparent and responsive...</td>\n",
       "      <td>ib or mb</td>\n",
       "      <td>0</td>\n",
       "      <td>5</td>\n",
       "    </tr>\n",
       "    <tr>\n",
       "      <th>...</th>\n",
       "      <td>...</td>\n",
       "      <td>...</td>\n",
       "      <td>...</td>\n",
       "      <td>...</td>\n",
       "      <td>...</td>\n",
       "      <td>...</td>\n",
       "      <td>...</td>\n",
       "      <td>...</td>\n",
       "      <td>...</td>\n",
       "    </tr>\n",
       "    <tr>\n",
       "      <th>21961</th>\n",
       "      <td>Ujjval</td>\n",
       "      <td>US</td>\n",
       "      <td>Dec 12, 2019</td>\n",
       "      <td>1</td>\n",
       "      <td>Worst service ever</td>\n",
       "      <td>Worst service ever. I was emailed to contact t...</td>\n",
       "      <td>cctr</td>\n",
       "      <td>0</td>\n",
       "      <td>1</td>\n",
       "    </tr>\n",
       "    <tr>\n",
       "      <th>21962</th>\n",
       "      <td>Corey</td>\n",
       "      <td>US</td>\n",
       "      <td>Oct 15, 2019</td>\n",
       "      <td>5</td>\n",
       "      <td>Best banking service I ever had!</td>\n",
       "      <td>None</td>\n",
       "      <td>0</td>\n",
       "      <td>0</td>\n",
       "      <td>5</td>\n",
       "    </tr>\n",
       "    <tr>\n",
       "      <th>21963</th>\n",
       "      <td>Pat</td>\n",
       "      <td>US</td>\n",
       "      <td>Sep 25, 2019</td>\n",
       "      <td>5</td>\n",
       "      <td>Preferred bank for over 25+ year</td>\n",
       "      <td>PNC has been my banking partner for over 25+ y...</td>\n",
       "      <td>0</td>\n",
       "      <td>0</td>\n",
       "      <td>5</td>\n",
       "    </tr>\n",
       "    <tr>\n",
       "      <th>21964</th>\n",
       "      <td>Robin</td>\n",
       "      <td>US</td>\n",
       "      <td>Feb 13, 2019</td>\n",
       "      <td>5</td>\n",
       "      <td>My only most trusted bank in 11 years</td>\n",
       "      <td>My only most trusted bank in 11 years, please ...</td>\n",
       "      <td>0</td>\n",
       "      <td>0</td>\n",
       "      <td>5</td>\n",
       "    </tr>\n",
       "    <tr>\n",
       "      <th>21965</th>\n",
       "      <td>Raymond Ebbeler</td>\n",
       "      <td>US</td>\n",
       "      <td>Nov 28, 2018</td>\n",
       "      <td>5</td>\n",
       "      <td>Ketiurah was helpful in setting up…</td>\n",
       "      <td>Ketiurah was helpful in setting up overdraft p...</td>\n",
       "      <td>ib or mb</td>\n",
       "      <td>enquiries-account</td>\n",
       "      <td>5</td>\n",
       "    </tr>\n",
       "  </tbody>\n",
       "</table>\n",
       "<p>21966 rows × 9 columns</p>\n",
       "</div>"
      ],
      "text/plain": [
       "              Customer Country                 Date  Rating  \\\n",
       "0              xxx xxx      GB  Updated Apr 4, 2022       5   \n",
       "1      Javier Setovich      US          Mar 8, 2022       5   \n",
       "2        Andrei Franco      VN         Mar 23, 2022       1   \n",
       "3          Isai Garcia      US         Feb 23, 2022       1   \n",
       "4       Tyler McMurray      US         Mar 22, 2022       5   \n",
       "...                ...     ...                  ...     ...   \n",
       "21961           Ujjval      US         Dec 12, 2019       1   \n",
       "21962            Corey      US         Oct 15, 2019       5   \n",
       "21963              Pat      US         Sep 25, 2019       5   \n",
       "21964            Robin      US         Feb 13, 2019       5   \n",
       "21965  Raymond Ebbeler      US         Nov 28, 2018       5   \n",
       "\n",
       "                                       Title  \\\n",
       "0               The best in all that matters   \n",
       "1                     Celsius Network ROCKS!   \n",
       "2                       I despise it so much   \n",
       "3          Worst customer service and worst…   \n",
       "4              Celsius is the BEST in Crypto   \n",
       "...                                      ...   \n",
       "21961                     Worst service ever   \n",
       "21962       Best banking service I ever had!   \n",
       "21963       Preferred bank for over 25+ year   \n",
       "21964  My only most trusted bank in 11 years   \n",
       "21965    Ketiurah was helpful in setting up…   \n",
       "\n",
       "                                                 Reviews  \\\n",
       "0      The best in all that matters! It's a great pla...   \n",
       "1      If you are looking for the best #HomeForCrypto...   \n",
       "2      I despise it so much. Transferring to other wa...   \n",
       "3      Worst customer service and worst company to de...   \n",
       "4      Celsius is the most transparent and responsive...   \n",
       "...                                                  ...   \n",
       "21961  Worst service ever. I was emailed to contact t...   \n",
       "21962                                               None   \n",
       "21963  PNC has been my banking partner for over 25+ y...   \n",
       "21964  My only most trusted bank in 11 years, please ...   \n",
       "21965  Ketiurah was helpful in setting up overdraft p...   \n",
       "\n",
       "                    Channels             Issues  Sentiment  \n",
       "0      chatbot or live agent                  0          5  \n",
       "1                          0                  0          5  \n",
       "2                   ib or mb    content-clarity          1  \n",
       "3             mobile banking                  0          1  \n",
       "4                   ib or mb                  0          5  \n",
       "...                      ...                ...        ...  \n",
       "21961                   cctr                  0          1  \n",
       "21962                      0                  0          5  \n",
       "21963                      0                  0          5  \n",
       "21964                      0                  0          5  \n",
       "21965               ib or mb  enquiries-account          5  \n",
       "\n",
       "[21966 rows x 9 columns]"
      ]
     },
     "execution_count": 29,
     "metadata": {},
     "output_type": "execute_result"
    }
   ],
   "source": [
    "df"
   ]
  },
  {
   "cell_type": "code",
   "execution_count": 30,
   "metadata": {},
   "outputs": [],
   "source": [
    "# Save the DataFrame to an Excel file\n",
    "df.to_excel('processed_reviews2.xlsx', index=False)  # Set index=False to exclude the index column in the Excel\n"
   ]
  }
 ],
 "metadata": {
  "kernelspec": {
   "display_name": "Python 3",
   "language": "python",
   "name": "python3"
  },
  "language_info": {
   "codemirror_mode": {
    "name": "ipython",
    "version": 3
   },
   "file_extension": ".py",
   "mimetype": "text/x-python",
   "name": "python",
   "nbconvert_exporter": "python",
   "pygments_lexer": "ipython3",
   "version": "3.10.11"
  }
 },
 "nbformat": 4,
 "nbformat_minor": 2
}
