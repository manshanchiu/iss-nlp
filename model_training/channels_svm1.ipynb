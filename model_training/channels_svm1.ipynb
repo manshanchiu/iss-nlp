{
 "cells": [
  {
   "cell_type": "code",
   "execution_count": 1,
   "metadata": {},
   "outputs": [],
   "source": [
    "import pandas as pd\n",
    "from sklearn.model_selection import train_test_split\n",
    "from sklearn.svm import SVC\n",
    "from sklearn.metrics import classification_report\n",
    "from transformers import BertTokenizer, BertModel\n",
    "import torch\n",
    "from sklearn.metrics import confusion_matrix\n",
    "import seaborn as sns\n",
    "import matplotlib.pyplot as plt"
   ]
  },
  {
   "cell_type": "code",
   "execution_count": 3,
   "metadata": {},
   "outputs": [],
   "source": [
    "dt_unclean = pd.read_excel(\"./data/for_textclassification_data.xlsx\")"
   ]
  },
  {
   "cell_type": "code",
   "execution_count": 5,
   "metadata": {},
   "outputs": [],
   "source": [
    "df = dt_unclean.dropna(subset=[\"Comment\"])"
   ]
  },
  {
   "cell_type": "code",
   "execution_count": 6,
   "metadata": {},
   "outputs": [
    {
     "name": "stderr",
     "output_type": "stream",
     "text": [
      "C:\\Users\\Xavior\\AppData\\Local\\Temp\\ipykernel_31608\\2126052350.py:10: SettingWithCopyWarning: \n",
      "A value is trying to be set on a copy of a slice from a DataFrame.\n",
      "Try using .loc[row_indexer,col_indexer] = value instead\n",
      "\n",
      "See the caveats in the documentation: https://pandas.pydata.org/pandas-docs/stable/user_guide/indexing.html#returning-a-view-versus-a-copy\n",
      "  df['channels'] = df['channels'].replace(category_mapping)\n"
     ]
    }
   ],
   "source": [
    "category_mapping = {\n",
    "    'internet banking': 'ib or mb',\n",
    "    'mobile banking': 'ib or mb',\n",
    "    'cctr': 'cctr/chatbot/live agent',\n",
    "    'chatbot or live agent': 'cctr/chatbot/live agent',\n",
    "    'cctr or chatbot': 'cctr/chatbot/live agent',\n",
    "}\n",
    "\n",
    "# Use the replace method to merge categories\n",
    "df['channels'] = df['channels'].replace(category_mapping)"
   ]
  },
  {
   "cell_type": "code",
   "execution_count": 10,
   "metadata": {},
   "outputs": [
    {
     "name": "stdout",
     "output_type": "stream",
     "text": [
      "No. of reviews for ib/mb:  488\n",
      "No. of reviews for cctr/chatbot/live agent:  203\n",
      "No. of reviews for pweb:  441\n"
     ]
    }
   ],
   "source": [
    "print(\"No. of reviews for ib/mb: \", len(df.loc[df.channels == 'ib or mb']))\n",
    "print(\"No. of reviews for cctr/chatbot/live agent: \", len(df.loc[df.channels == 'cctr/chatbot/live agent']))\n",
    "print(\"No. of reviews for pweb: \", len(df.loc[df.channels == 'pweb']))"
   ]
  },
  {
   "cell_type": "code",
   "execution_count": 11,
   "metadata": {},
   "outputs": [],
   "source": [
    "category_to_include = ['ib or mb', 'pweb', 'cctr/chatbot/live agent','0']"
   ]
  },
  {
   "cell_type": "code",
   "execution_count": 12,
   "metadata": {},
   "outputs": [],
   "source": [
    "combined_df = pd.DataFrame(columns=['channels'])"
   ]
  },
  {
   "cell_type": "code",
   "execution_count": 29,
   "metadata": {},
   "outputs": [
    {
     "name": "stderr",
     "output_type": "stream",
     "text": [
      "C:\\Users\\Xavior\\AppData\\Local\\Temp\\ipykernel_31608\\1200258598.py:15: FutureWarning: The frame.append method is deprecated and will be removed from pandas in a future version. Use pandas.concat instead.\n",
      "  balanced_df = balanced_df.append(channel_data.sample(sample_size + 60))\n",
      "C:\\Users\\Xavior\\AppData\\Local\\Temp\\ipykernel_31608\\1200258598.py:15: FutureWarning: The frame.append method is deprecated and will be removed from pandas in a future version. Use pandas.concat instead.\n",
      "  balanced_df = balanced_df.append(channel_data.sample(sample_size + 60))\n",
      "C:\\Users\\Xavior\\AppData\\Local\\Temp\\ipykernel_31608\\1200258598.py:17: FutureWarning: The frame.append method is deprecated and will be removed from pandas in a future version. Use pandas.concat instead.\n",
      "  balanced_df = balanced_df.append(channel_data.sample(sample_size))\n",
      "C:\\Users\\Xavior\\AppData\\Local\\Temp\\ipykernel_31608\\1200258598.py:17: FutureWarning: The frame.append method is deprecated and will be removed from pandas in a future version. Use pandas.concat instead.\n",
      "  balanced_df = balanced_df.append(channel_data.sample(sample_size))\n"
     ]
    }
   ],
   "source": [
    "\n",
    "# Initialize an empty DataFrame to store the balanced dataset\n",
    "balanced_df = pd.DataFrame(columns=df.columns)\n",
    "\n",
    "# List of unique channel values\n",
    "unique_channels = df['channels'].unique()\n",
    "\n",
    "# Specify the number of rows to sample for each channel (e.g., 200)\n",
    "sample_size = 200\n",
    "\n",
    "# Balance the dataset by sampling 200 rows for each unique channel value\n",
    "for channel in category_to_include:\n",
    "    channel_data = df[df['channels'] == channel]\n",
    "    if len(channel_data) >= sample_size:\n",
    "        if channel in ['ib or mb','pweb']:\n",
    "            balanced_df = balanced_df.append(channel_data.sample(sample_size + 60))\n",
    "        else:\n",
    "            balanced_df = balanced_df.append(channel_data.sample(sample_size))\n",
    "    else:\n",
    "        balanced_df = balanced_df.append(channel_data)\n",
    "\n",
    "# Reset the index of the balanced DataFrame\n",
    "balanced_df.reset_index(drop=True, inplace=True)"
   ]
  },
  {
   "cell_type": "code",
   "execution_count": 14,
   "metadata": {},
   "outputs": [
    {
     "data": {
      "text/html": [
       "<div>\n",
       "<style scoped>\n",
       "    .dataframe tbody tr th:only-of-type {\n",
       "        vertical-align: middle;\n",
       "    }\n",
       "\n",
       "    .dataframe tbody tr th {\n",
       "        vertical-align: top;\n",
       "    }\n",
       "\n",
       "    .dataframe thead th {\n",
       "        text-align: right;\n",
       "    }\n",
       "</style>\n",
       "<table border=\"1\" class=\"dataframe\">\n",
       "  <thead>\n",
       "    <tr style=\"text-align: right;\">\n",
       "      <th></th>\n",
       "      <th>Code</th>\n",
       "      <th>Channel</th>\n",
       "      <th>Survey Type</th>\n",
       "      <th>Bank Type</th>\n",
       "      <th>Language</th>\n",
       "      <th>Country</th>\n",
       "      <th>Page Type</th>\n",
       "      <th>Title of page</th>\n",
       "      <th>Link</th>\n",
       "      <th>Rate</th>\n",
       "      <th>Issues</th>\n",
       "      <th>Comment</th>\n",
       "      <th>channels</th>\n",
       "      <th>group</th>\n",
       "      <th>notes</th>\n",
       "      <th>Date</th>\n",
       "      <th>Module Visited</th>\n",
       "      <th>SysgenID</th>\n",
       "      <th>Column19</th>\n",
       "    </tr>\n",
       "  </thead>\n",
       "  <tbody>\n",
       "    <tr>\n",
       "      <th>0</th>\n",
       "      <td>493379c0-e99e-4717-bbf2-0f94d54c0bab</td>\n",
       "      <td>PWEB</td>\n",
       "      <td>Overall</td>\n",
       "      <td>personal</td>\n",
       "      <td>en</td>\n",
       "      <td>sg</td>\n",
       "      <td>loans</td>\n",
       "      <td>Buying Your HDB Flat - Bank Loan Interest Rate...</td>\n",
       "      <td>https://www.dbs.com.sg/personal/loans/homeloan...</td>\n",
       "      <td>2</td>\n",
       "      <td>Technical</td>\n",
       "      <td>App hangs</td>\n",
       "      <td>ib or mb</td>\n",
       "      <td>0</td>\n",
       "      <td>NaN</td>\n",
       "      <td>2021-05-18 21:23:05</td>\n",
       "      <td>pweb</td>\n",
       "      <td>NaN</td>\n",
       "      <td>NaN</td>\n",
       "    </tr>\n",
       "    <tr>\n",
       "      <th>1</th>\n",
       "      <td>93e62b57-01ec-4446-96f7-555834098022</td>\n",
       "      <td>PWEB</td>\n",
       "      <td>Overall</td>\n",
       "      <td>personal</td>\n",
       "      <td>en</td>\n",
       "      <td>sg</td>\n",
       "      <td>default.page</td>\n",
       "      <td>Bank Accounts, Cards, Loans, Financial Plannin...</td>\n",
       "      <td>https://www.dbs.com.sg/personal/default.page</td>\n",
       "      <td>1</td>\n",
       "      <td>Technical,Other</td>\n",
       "      <td>I login in less than 2 minutes and access my s...</td>\n",
       "      <td>ib or mb</td>\n",
       "      <td>technical-logging</td>\n",
       "      <td>NaN</td>\n",
       "      <td>2021-05-18 10:24:59</td>\n",
       "      <td>pweb</td>\n",
       "      <td>NaN</td>\n",
       "      <td>NaN</td>\n",
       "    </tr>\n",
       "    <tr>\n",
       "      <th>2</th>\n",
       "      <td>394b01d7-ae14-419e-ad56-97bdb9c1d302</td>\n",
       "      <td>PWEB</td>\n",
       "      <td>Overall</td>\n",
       "      <td>personal</td>\n",
       "      <td>en</td>\n",
       "      <td>sg</td>\n",
       "      <td>investments</td>\n",
       "      <td>CPF Investment Account   DBS Singapore</td>\n",
       "      <td>https://www.dbs.com.sg/personal/investments/sr...</td>\n",
       "      <td>1</td>\n",
       "      <td>Other</td>\n",
       "      <td>Investment Awareness Quiz is not made known to...</td>\n",
       "      <td>ib or mb</td>\n",
       "      <td>technical-logging</td>\n",
       "      <td>NaN</td>\n",
       "      <td>2021-05-26 14:59:57</td>\n",
       "      <td>pweb</td>\n",
       "      <td>NaN</td>\n",
       "      <td>NaN</td>\n",
       "    </tr>\n",
       "    <tr>\n",
       "      <th>3</th>\n",
       "      <td>7fc2c747-ea4e-4958-a175-685ed0249fab</td>\n",
       "      <td>PWEB</td>\n",
       "      <td>Overall</td>\n",
       "      <td>personal</td>\n",
       "      <td>en</td>\n",
       "      <td>sg</td>\n",
       "      <td>default.page</td>\n",
       "      <td>Bank Accounts, Cards, Loans, Financial Plannin...</td>\n",
       "      <td>https://www.dbs.com.sg/personal/default.page</td>\n",
       "      <td>1</td>\n",
       "      <td>Technical</td>\n",
       "      <td>why downloading of my estatement also FAILED -...</td>\n",
       "      <td>ib or mb</td>\n",
       "      <td>technical-statements</td>\n",
       "      <td>NaN</td>\n",
       "      <td>2021-05-23 12:28:09</td>\n",
       "      <td>pweb</td>\n",
       "      <td>NaN</td>\n",
       "      <td>NaN</td>\n",
       "    </tr>\n",
       "    <tr>\n",
       "      <th>4</th>\n",
       "      <td>34a4f70a-1d54-4194-b41b-6b078db1daa3</td>\n",
       "      <td>PWEB</td>\n",
       "      <td>Overall</td>\n",
       "      <td>personal</td>\n",
       "      <td>en</td>\n",
       "      <td>sg</td>\n",
       "      <td>deposits</td>\n",
       "      <td>Digital Token   DBS Singapore</td>\n",
       "      <td>https://www.dbs.com.sg/personal/deposits/bank-...</td>\n",
       "      <td>1</td>\n",
       "      <td>Other</td>\n",
       "      <td>I didn't like to set up token.. can I straight...</td>\n",
       "      <td>ib or mb</td>\n",
       "      <td>technical-logging-authentication-token</td>\n",
       "      <td>NaN</td>\n",
       "      <td>2021-05-02 10:51:23</td>\n",
       "      <td>pweb</td>\n",
       "      <td>NaN</td>\n",
       "      <td>NaN</td>\n",
       "    </tr>\n",
       "    <tr>\n",
       "      <th>...</th>\n",
       "      <td>...</td>\n",
       "      <td>...</td>\n",
       "      <td>...</td>\n",
       "      <td>...</td>\n",
       "      <td>...</td>\n",
       "      <td>...</td>\n",
       "      <td>...</td>\n",
       "      <td>...</td>\n",
       "      <td>...</td>\n",
       "      <td>...</td>\n",
       "      <td>...</td>\n",
       "      <td>...</td>\n",
       "      <td>...</td>\n",
       "      <td>...</td>\n",
       "      <td>...</td>\n",
       "      <td>...</td>\n",
       "      <td>...</td>\n",
       "      <td>...</td>\n",
       "      <td>...</td>\n",
       "    </tr>\n",
       "    <tr>\n",
       "      <th>995</th>\n",
       "      <td>8d8f289d-36d8-49b3-a227-6aa207bdbb42</td>\n",
       "      <td>PWEB</td>\n",
       "      <td>Overall</td>\n",
       "      <td>treasures</td>\n",
       "      <td>en</td>\n",
       "      <td>sg</td>\n",
       "      <td>articles</td>\n",
       "      <td>How to keep up with foreign exchange rates eff...</td>\n",
       "      <td>https://www.dbs.com.sg/treasures/articles/weal...</td>\n",
       "      <td>4</td>\n",
       "      <td>NaN</td>\n",
       "      <td>dont interrupt me with ads while i am still br...</td>\n",
       "      <td>0</td>\n",
       "      <td>content-advertisement</td>\n",
       "      <td>NaN</td>\n",
       "      <td>2021-05-15 14:27:30</td>\n",
       "      <td>pweb</td>\n",
       "      <td>NaN</td>\n",
       "      <td>NaN</td>\n",
       "    </tr>\n",
       "    <tr>\n",
       "      <th>996</th>\n",
       "      <td>151d7519-d4d4-4653-9f21-927ff943a7aa</td>\n",
       "      <td>PWEB</td>\n",
       "      <td>Overall</td>\n",
       "      <td>personal</td>\n",
       "      <td>en</td>\n",
       "      <td>sg</td>\n",
       "      <td>promotion</td>\n",
       "      <td>Apply for a DBS Visa Debit Card   DBS Singapore</td>\n",
       "      <td>https://www.dbs.com.sg/personal/promotion/card...</td>\n",
       "      <td>5</td>\n",
       "      <td>NaN</td>\n",
       "      <td>Sorry my card is spaal raday Then I went new card</td>\n",
       "      <td>0</td>\n",
       "      <td>0</td>\n",
       "      <td>NaN</td>\n",
       "      <td>2021-05-13 16:06:41</td>\n",
       "      <td>pweb</td>\n",
       "      <td>NaN</td>\n",
       "      <td>NaN</td>\n",
       "    </tr>\n",
       "    <tr>\n",
       "      <th>997</th>\n",
       "      <td>5e6e49fa-a6a4-4713-bba4-1bfd758c4e0e</td>\n",
       "      <td>PWEB</td>\n",
       "      <td>Overall</td>\n",
       "      <td>posb</td>\n",
       "      <td>en</td>\n",
       "      <td>sg</td>\n",
       "      <td>deposits</td>\n",
       "      <td>POSB digibank online   POSB Singapore</td>\n",
       "      <td>https://www.posb.com.sg/personal/deposits/bank...</td>\n",
       "      <td>5</td>\n",
       "      <td>NaN</td>\n",
       "      <td>-</td>\n",
       "      <td>0</td>\n",
       "      <td>0</td>\n",
       "      <td>NaN</td>\n",
       "      <td>2021-05-12 13:34:01</td>\n",
       "      <td>pweb</td>\n",
       "      <td>NaN</td>\n",
       "      <td>NaN</td>\n",
       "    </tr>\n",
       "    <tr>\n",
       "      <th>998</th>\n",
       "      <td>08f498f1-173a-476b-befc-3b74f90247d9</td>\n",
       "      <td>PWEB</td>\n",
       "      <td>Overall</td>\n",
       "      <td>posb</td>\n",
       "      <td>en</td>\n",
       "      <td>sg</td>\n",
       "      <td>investments</td>\n",
       "      <td>Supplementary Retirement Scheme   POSB Singapore</td>\n",
       "      <td>https://www.posb.com.sg/personal/investments/s...</td>\n",
       "      <td>5</td>\n",
       "      <td>NaN</td>\n",
       "      <td>Ok</td>\n",
       "      <td>0</td>\n",
       "      <td>0</td>\n",
       "      <td>NaN</td>\n",
       "      <td>2021-05-03 10:43:05</td>\n",
       "      <td>pweb</td>\n",
       "      <td>NaN</td>\n",
       "      <td>NaN</td>\n",
       "    </tr>\n",
       "    <tr>\n",
       "      <th>999</th>\n",
       "      <td>7336cfb8-bb3f-4b6b-b3c3-ba53b2b2d225</td>\n",
       "      <td>PWEB</td>\n",
       "      <td>Overall</td>\n",
       "      <td>treasures</td>\n",
       "      <td>en</td>\n",
       "      <td>sg</td>\n",
       "      <td>default.page</td>\n",
       "      <td>Treasury Deposit, Trading &amp; Investment Plans  ...</td>\n",
       "      <td>https://www.dbs.com.sg/treasures/default.page</td>\n",
       "      <td>5</td>\n",
       "      <td>NaN</td>\n",
       "      <td>thank you</td>\n",
       "      <td>0</td>\n",
       "      <td>0</td>\n",
       "      <td>NaN</td>\n",
       "      <td>2021-05-05 13:20:54</td>\n",
       "      <td>pweb</td>\n",
       "      <td>NaN</td>\n",
       "      <td>NaN</td>\n",
       "    </tr>\n",
       "  </tbody>\n",
       "</table>\n",
       "<p>1000 rows × 19 columns</p>\n",
       "</div>"
      ],
      "text/plain": [
       "                                     Code Channel Survey Type  Bank Type  \\\n",
       "0    493379c0-e99e-4717-bbf2-0f94d54c0bab    PWEB     Overall   personal   \n",
       "1    93e62b57-01ec-4446-96f7-555834098022    PWEB     Overall   personal   \n",
       "2    394b01d7-ae14-419e-ad56-97bdb9c1d302    PWEB     Overall   personal   \n",
       "3    7fc2c747-ea4e-4958-a175-685ed0249fab    PWEB     Overall   personal   \n",
       "4    34a4f70a-1d54-4194-b41b-6b078db1daa3    PWEB     Overall   personal   \n",
       "..                                    ...     ...         ...        ...   \n",
       "995  8d8f289d-36d8-49b3-a227-6aa207bdbb42    PWEB     Overall  treasures   \n",
       "996  151d7519-d4d4-4653-9f21-927ff943a7aa    PWEB     Overall   personal   \n",
       "997  5e6e49fa-a6a4-4713-bba4-1bfd758c4e0e    PWEB     Overall       posb   \n",
       "998  08f498f1-173a-476b-befc-3b74f90247d9    PWEB     Overall       posb   \n",
       "999  7336cfb8-bb3f-4b6b-b3c3-ba53b2b2d225    PWEB     Overall  treasures   \n",
       "\n",
       "    Language Country     Page Type  \\\n",
       "0         en      sg         loans   \n",
       "1         en      sg  default.page   \n",
       "2         en      sg   investments   \n",
       "3         en      sg  default.page   \n",
       "4         en      sg      deposits   \n",
       "..       ...     ...           ...   \n",
       "995       en      sg      articles   \n",
       "996       en      sg     promotion   \n",
       "997       en      sg      deposits   \n",
       "998       en      sg   investments   \n",
       "999       en      sg  default.page   \n",
       "\n",
       "                                         Title of page  \\\n",
       "0    Buying Your HDB Flat - Bank Loan Interest Rate...   \n",
       "1    Bank Accounts, Cards, Loans, Financial Plannin...   \n",
       "2               CPF Investment Account   DBS Singapore   \n",
       "3    Bank Accounts, Cards, Loans, Financial Plannin...   \n",
       "4                        Digital Token   DBS Singapore   \n",
       "..                                                 ...   \n",
       "995  How to keep up with foreign exchange rates eff...   \n",
       "996    Apply for a DBS Visa Debit Card   DBS Singapore   \n",
       "997              POSB digibank online   POSB Singapore   \n",
       "998   Supplementary Retirement Scheme   POSB Singapore   \n",
       "999  Treasury Deposit, Trading & Investment Plans  ...   \n",
       "\n",
       "                                                  Link Rate           Issues  \\\n",
       "0    https://www.dbs.com.sg/personal/loans/homeloan...    2        Technical   \n",
       "1         https://www.dbs.com.sg/personal/default.page    1  Technical,Other   \n",
       "2    https://www.dbs.com.sg/personal/investments/sr...    1            Other   \n",
       "3         https://www.dbs.com.sg/personal/default.page    1        Technical   \n",
       "4    https://www.dbs.com.sg/personal/deposits/bank-...    1            Other   \n",
       "..                                                 ...  ...              ...   \n",
       "995  https://www.dbs.com.sg/treasures/articles/weal...    4              NaN   \n",
       "996  https://www.dbs.com.sg/personal/promotion/card...    5              NaN   \n",
       "997  https://www.posb.com.sg/personal/deposits/bank...    5              NaN   \n",
       "998  https://www.posb.com.sg/personal/investments/s...    5              NaN   \n",
       "999      https://www.dbs.com.sg/treasures/default.page    5              NaN   \n",
       "\n",
       "                                               Comment  channels  \\\n",
       "0                                            App hangs  ib or mb   \n",
       "1    I login in less than 2 minutes and access my s...  ib or mb   \n",
       "2    Investment Awareness Quiz is not made known to...  ib or mb   \n",
       "3    why downloading of my estatement also FAILED -...  ib or mb   \n",
       "4    I didn't like to set up token.. can I straight...  ib or mb   \n",
       "..                                                 ...       ...   \n",
       "995  dont interrupt me with ads while i am still br...         0   \n",
       "996  Sorry my card is spaal raday Then I went new card         0   \n",
       "997                                                  -         0   \n",
       "998                                                 Ok         0   \n",
       "999                                          thank you         0   \n",
       "\n",
       "                                      group notes                Date  \\\n",
       "0                                         0   NaN 2021-05-18 21:23:05   \n",
       "1                         technical-logging   NaN 2021-05-18 10:24:59   \n",
       "2                         technical-logging   NaN 2021-05-26 14:59:57   \n",
       "3                      technical-statements   NaN 2021-05-23 12:28:09   \n",
       "4    technical-logging-authentication-token   NaN 2021-05-02 10:51:23   \n",
       "..                                      ...   ...                 ...   \n",
       "995                  content-advertisement    NaN 2021-05-15 14:27:30   \n",
       "996                                       0   NaN 2021-05-13 16:06:41   \n",
       "997                                       0   NaN 2021-05-12 13:34:01   \n",
       "998                                       0   NaN 2021-05-03 10:43:05   \n",
       "999                                       0   NaN 2021-05-05 13:20:54   \n",
       "\n",
       "    Module Visited SysgenID Column19  \n",
       "0             pweb      NaN      NaN  \n",
       "1             pweb      NaN      NaN  \n",
       "2             pweb      NaN      NaN  \n",
       "3             pweb      NaN      NaN  \n",
       "4             pweb      NaN      NaN  \n",
       "..             ...      ...      ...  \n",
       "995           pweb      NaN      NaN  \n",
       "996           pweb      NaN      NaN  \n",
       "997           pweb      NaN      NaN  \n",
       "998           pweb      NaN      NaN  \n",
       "999           pweb      NaN      NaN  \n",
       "\n",
       "[1000 rows x 19 columns]"
      ]
     },
     "execution_count": 14,
     "metadata": {},
     "output_type": "execute_result"
    }
   ],
   "source": [
    "balanced_df"
   ]
  },
  {
   "cell_type": "code",
   "execution_count": 30,
   "metadata": {},
   "outputs": [
    {
     "data": {
      "text/plain": [
       "920"
      ]
     },
     "execution_count": 30,
     "metadata": {},
     "output_type": "execute_result"
    }
   ],
   "source": [
    "balanced_df.shape[0]"
   ]
  },
  {
   "cell_type": "code",
   "execution_count": 31,
   "metadata": {},
   "outputs": [
    {
     "data": {
      "text/plain": [
       "array(['ib or mb', 'pweb', 'cctr/chatbot/live agent', '0'], dtype=object)"
      ]
     },
     "execution_count": 31,
     "metadata": {},
     "output_type": "execute_result"
    }
   ],
   "source": [
    "labels = balanced_df[\"channels\"].unique()\n",
    "labels"
   ]
  },
  {
   "cell_type": "code",
   "execution_count": 32,
   "metadata": {},
   "outputs": [
    {
     "name": "stdout",
     "output_type": "stream",
     "text": [
      "No. of reviews for ib/mb:  260\n",
      "No. of reviews for cctr/chatbot/live agent:  200\n",
      "No. of reviews for unspecified:  200\n",
      "No. of reviews for pweb:  260\n"
     ]
    }
   ],
   "source": [
    "print(\"No. of reviews for ib/mb: \", len(balanced_df.loc[balanced_df.channels == 'ib or mb']))\n",
    "print(\"No. of reviews for cctr/chatbot/live agent: \", len(balanced_df.loc[balanced_df.channels == 'cctr/chatbot/live agent']))\n",
    "print(\"No. of reviews for unspecified: \", len(balanced_df.loc[balanced_df.channels == '0']))\n",
    "print(\"No. of reviews for pweb: \", len(balanced_df.loc[balanced_df.channels == 'pweb']))\n"
   ]
  },
  {
   "cell_type": "code",
   "execution_count": 36,
   "metadata": {},
   "outputs": [],
   "source": [
    "# Replace '0' with 'unspecified' in the 'channels' column\n",
    "balanced_df['channels'] = balanced_df['channels'].replace('0', 'unspecified')"
   ]
  },
  {
   "cell_type": "code",
   "execution_count": 34,
   "metadata": {},
   "outputs": [
    {
     "name": "stderr",
     "output_type": "stream",
     "text": [
      "Some weights of the model checkpoint at bert-base-uncased were not used when initializing BertModel: ['cls.predictions.transform.dense.weight', 'cls.seq_relationship.weight', 'cls.predictions.bias', 'cls.predictions.transform.LayerNorm.bias', 'cls.predictions.transform.LayerNorm.weight', 'cls.seq_relationship.bias', 'cls.predictions.transform.dense.bias']\n",
      "- This IS expected if you are initializing BertModel from the checkpoint of a model trained on another task or with another architecture (e.g. initializing a BertForSequenceClassification model from a BertForPreTraining model).\n",
      "- This IS NOT expected if you are initializing BertModel from the checkpoint of a model that you expect to be exactly identical (initializing a BertForSequenceClassification model from a BertForSequenceClassification model).\n"
     ]
    }
   ],
   "source": [
    "# Initialize the BERT tokenizer and model\n",
    "tokenizer = BertTokenizer.from_pretrained(\"bert-base-uncased\")\n",
    "bert_model = BertModel.from_pretrained(\"bert-base-uncased\")"
   ]
  },
  {
   "cell_type": "code",
   "execution_count": 37,
   "metadata": {},
   "outputs": [],
   "source": [
    "# Tokenize and generate BERT embeddings for your reviews\n",
    "def generate_bert_embeddings(text):\n",
    "    inputs = tokenizer(text, padding=True, truncation=True, return_tensors=\"pt\", max_length=128)\n",
    "    with torch.no_grad():\n",
    "        outputs = bert_model(**inputs)\n",
    "    return outputs.last_hidden_state.mean(dim=1)  # Average pooling"
   ]
  },
  {
   "cell_type": "code",
   "execution_count": 38,
   "metadata": {},
   "outputs": [],
   "source": [
    "# Apply BERT embeddings to your entire dataset\n",
    "embeddings = balanced_df.Comment.apply(generate_bert_embeddings)"
   ]
  },
  {
   "cell_type": "code",
   "execution_count": 39,
   "metadata": {},
   "outputs": [],
   "source": [
    "# Combine the embeddings into a feature matrix\n",
    "X = torch.cat(embeddings.tolist()).numpy()"
   ]
  },
  {
   "cell_type": "code",
   "execution_count": 40,
   "metadata": {},
   "outputs": [],
   "source": [
    "# Split the data into training and testing sets\n",
    "X_train, X_test, y_train, y_test = train_test_split(X, balanced_df[\"channels\"], test_size=0.25, random_state=42)"
   ]
  },
  {
   "cell_type": "code",
   "execution_count": 54,
   "metadata": {},
   "outputs": [
    {
     "data": {
      "text/html": [
       "<style>#sk-container-id-8 {color: black;background-color: white;}#sk-container-id-8 pre{padding: 0;}#sk-container-id-8 div.sk-toggleable {background-color: white;}#sk-container-id-8 label.sk-toggleable__label {cursor: pointer;display: block;width: 100%;margin-bottom: 0;padding: 0.3em;box-sizing: border-box;text-align: center;}#sk-container-id-8 label.sk-toggleable__label-arrow:before {content: \"▸\";float: left;margin-right: 0.25em;color: #696969;}#sk-container-id-8 label.sk-toggleable__label-arrow:hover:before {color: black;}#sk-container-id-8 div.sk-estimator:hover label.sk-toggleable__label-arrow:before {color: black;}#sk-container-id-8 div.sk-toggleable__content {max-height: 0;max-width: 0;overflow: hidden;text-align: left;background-color: #f0f8ff;}#sk-container-id-8 div.sk-toggleable__content pre {margin: 0.2em;color: black;border-radius: 0.25em;background-color: #f0f8ff;}#sk-container-id-8 input.sk-toggleable__control:checked~div.sk-toggleable__content {max-height: 200px;max-width: 100%;overflow: auto;}#sk-container-id-8 input.sk-toggleable__control:checked~label.sk-toggleable__label-arrow:before {content: \"▾\";}#sk-container-id-8 div.sk-estimator input.sk-toggleable__control:checked~label.sk-toggleable__label {background-color: #d4ebff;}#sk-container-id-8 div.sk-label input.sk-toggleable__control:checked~label.sk-toggleable__label {background-color: #d4ebff;}#sk-container-id-8 input.sk-hidden--visually {border: 0;clip: rect(1px 1px 1px 1px);clip: rect(1px, 1px, 1px, 1px);height: 1px;margin: -1px;overflow: hidden;padding: 0;position: absolute;width: 1px;}#sk-container-id-8 div.sk-estimator {font-family: monospace;background-color: #f0f8ff;border: 1px dotted black;border-radius: 0.25em;box-sizing: border-box;margin-bottom: 0.5em;}#sk-container-id-8 div.sk-estimator:hover {background-color: #d4ebff;}#sk-container-id-8 div.sk-parallel-item::after {content: \"\";width: 100%;border-bottom: 1px solid gray;flex-grow: 1;}#sk-container-id-8 div.sk-label:hover label.sk-toggleable__label {background-color: #d4ebff;}#sk-container-id-8 div.sk-serial::before {content: \"\";position: absolute;border-left: 1px solid gray;box-sizing: border-box;top: 0;bottom: 0;left: 50%;z-index: 0;}#sk-container-id-8 div.sk-serial {display: flex;flex-direction: column;align-items: center;background-color: white;padding-right: 0.2em;padding-left: 0.2em;position: relative;}#sk-container-id-8 div.sk-item {position: relative;z-index: 1;}#sk-container-id-8 div.sk-parallel {display: flex;align-items: stretch;justify-content: center;background-color: white;position: relative;}#sk-container-id-8 div.sk-item::before, #sk-container-id-8 div.sk-parallel-item::before {content: \"\";position: absolute;border-left: 1px solid gray;box-sizing: border-box;top: 0;bottom: 0;left: 50%;z-index: -1;}#sk-container-id-8 div.sk-parallel-item {display: flex;flex-direction: column;z-index: 1;position: relative;background-color: white;}#sk-container-id-8 div.sk-parallel-item:first-child::after {align-self: flex-end;width: 50%;}#sk-container-id-8 div.sk-parallel-item:last-child::after {align-self: flex-start;width: 50%;}#sk-container-id-8 div.sk-parallel-item:only-child::after {width: 0;}#sk-container-id-8 div.sk-dashed-wrapped {border: 1px dashed gray;margin: 0 0.4em 0.5em 0.4em;box-sizing: border-box;padding-bottom: 0.4em;background-color: white;}#sk-container-id-8 div.sk-label label {font-family: monospace;font-weight: bold;display: inline-block;line-height: 1.2em;}#sk-container-id-8 div.sk-label-container {text-align: center;}#sk-container-id-8 div.sk-container {/* jupyter's `normalize.less` sets `[hidden] { display: none; }` but bootstrap.min.css set `[hidden] { display: none !important; }` so we also need the `!important` here to be able to override the default hidden behavior on the sphinx rendered scikit-learn.org. See: https://github.com/scikit-learn/scikit-learn/issues/21755 */display: inline-block !important;position: relative;}#sk-container-id-8 div.sk-text-repr-fallback {display: none;}</style><div id=\"sk-container-id-8\" class=\"sk-top-container\"><div class=\"sk-text-repr-fallback\"><pre>SVC(C=0.5, kernel=&#x27;linear&#x27;)</pre><b>In a Jupyter environment, please rerun this cell to show the HTML representation or trust the notebook. <br />On GitHub, the HTML representation is unable to render, please try loading this page with nbviewer.org.</b></div><div class=\"sk-container\" hidden><div class=\"sk-item\"><div class=\"sk-estimator sk-toggleable\"><input class=\"sk-toggleable__control sk-hidden--visually\" id=\"sk-estimator-id-8\" type=\"checkbox\" checked><label for=\"sk-estimator-id-8\" class=\"sk-toggleable__label sk-toggleable__label-arrow\">SVC</label><div class=\"sk-toggleable__content\"><pre>SVC(C=0.5, kernel=&#x27;linear&#x27;)</pre></div></div></div></div></div>"
      ],
      "text/plain": [
       "SVC(C=0.5, kernel='linear')"
      ]
     },
     "execution_count": 54,
     "metadata": {},
     "output_type": "execute_result"
    }
   ],
   "source": [
    "# Train a multi-class SVM model\n",
    "svm_model = SVC(kernel='linear', decision_function_shape='ovr',C=0.5)\n",
    "svm_model.fit(X_train, y_train)"
   ]
  },
  {
   "cell_type": "code",
   "execution_count": 55,
   "metadata": {},
   "outputs": [
    {
     "name": "stdout",
     "output_type": "stream",
     "text": [
      "                         precision    recall  f1-score   support\n",
      "\n",
      "cctr/chatbot/live agent       0.73      0.78      0.76        46\n",
      "               ib or mb       0.70      0.75      0.72        61\n",
      "                   pweb       0.70      0.65      0.67        71\n",
      "            unspecified       0.80      0.75      0.77        52\n",
      "\n",
      "               accuracy                           0.73       230\n",
      "              macro avg       0.73      0.73      0.73       230\n",
      "           weighted avg       0.73      0.73      0.73       230\n",
      "\n"
     ]
    }
   ],
   "source": [
    "# Evaluate the SVM model\n",
    "y_pred = svm_model.predict(X_test)\n",
    "print(classification_report(y_test, y_pred))"
   ]
  },
  {
   "cell_type": "code",
   "execution_count": 56,
   "metadata": {},
   "outputs": [],
   "source": [
    "class_labels = balanced_df[\"channels\"].unique()"
   ]
  },
  {
   "cell_type": "code",
   "execution_count": 57,
   "metadata": {},
   "outputs": [
    {
     "data": {
      "image/png": "[encoded data removed]",
      "text/plain": [
       "<Figure size 800x600 with 1 Axes>"
      ]
     },
     "metadata": {},
     "output_type": "display_data"
    }
   ],
   "source": [
    "# Generate the confusion matrix\n",
    "cm = confusion_matrix(y_test, y_pred)\n",
    "\n",
    "# Create a heatmap for visualization\n",
    "plt.figure(figsize=(8, 6))\n",
    "sns.heatmap(cm, annot=True, fmt=\"d\", cmap=\"Blues\", cbar=False,\n",
    "            xticklabels=class_labels, yticklabels=class_labels)\n",
    "plt.xlabel(\"Predicted\")\n",
    "plt.ylabel(\"True\")\n",
    "plt.title(\"Confusion Matrix\")\n",
    "plt.show()"
   ]
  }
 ],
 "metadata": {
  "kernelspec": {
   "display_name": "Python 3",
   "language": "python",
   "name": "python3"
  },
  "language_info": {
   "codemirror_mode": {
    "name": "ipython",
    "version": 3
   },
   "file_extension": ".py",
   "mimetype": "text/x-python",
   "name": "python",
   "nbconvert_exporter": "python",
   "pygments_lexer": "ipython3",
   "version": "3.10.11"
  }
 },
 "nbformat": 4,
 "nbformat_minor": 2
}
