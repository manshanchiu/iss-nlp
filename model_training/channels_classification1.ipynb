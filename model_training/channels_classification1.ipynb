{
 "cells": [
  {
   "cell_type": "code",
   "execution_count": 3,
   "metadata": {},
   "outputs": [],
   "source": [
    "import torch\n",
    "import torch.nn as nn\n",
    "import torch.optim as optim\n",
    "from transformers import BertTokenizer, BertModel\n",
    "import pandas as pd\n",
    "import numpy as np"
   ]
  },
  {
   "cell_type": "code",
   "execution_count": 1,
   "metadata": {},
   "outputs": [
    {
     "name": "stdout",
     "output_type": "stream",
     "text": [
      "No GPU available, using the CPU instead.\n"
     ]
    }
   ],
   "source": [
    "# If there's a GPU available...\n",
    "if torch.cuda.is_available():\n",
    "\n",
    "    # Tell PyTorch to use the GPU.\n",
    "    device = torch.device(\"cuda\")\n",
    "\n",
    "    print('There are %d GPU(s) available.' % torch.cuda.device_count())\n",
    "\n",
    "    print('We will use the GPU:', torch.cuda.get_device_name(0))\n",
    "\n",
    "# If not...\n",
    "else:\n",
    "    print('No GPU available, using the CPU instead.')\n",
    "    device = torch.device(\"cpu\")"
   ]
  },
  {
   "cell_type": "code",
   "execution_count": 4,
   "metadata": {},
   "outputs": [],
   "source": [
    "dt_unclean = pd.read_excel(\"for_textclassification_data.xlsx\")"
   ]
  },
  {
   "cell_type": "code",
   "execution_count": 5,
   "metadata": {},
   "outputs": [
    {
     "data": {
      "text/plain": [
       "14136"
      ]
     },
     "execution_count": 5,
     "metadata": {},
     "output_type": "execute_result"
    }
   ],
   "source": [
    "dt_unclean.shape[0]"
   ]
  },
  {
   "cell_type": "code",
   "execution_count": 6,
   "metadata": {},
   "outputs": [],
   "source": [
    "df = dt_unclean.dropna(subset=[\"Comment\"])"
   ]
  },
  {
   "cell_type": "code",
   "execution_count": 7,
   "metadata": {},
   "outputs": [
    {
     "data": {
      "text/plain": [
       "1785"
      ]
     },
     "execution_count": 7,
     "metadata": {},
     "output_type": "execute_result"
    }
   ],
   "source": [
    "df.shape[0]"
   ]
  },
  {
   "cell_type": "code",
   "execution_count": 8,
   "metadata": {},
   "outputs": [],
   "source": [
    "labels = df[\"channels\"].unique()"
   ]
  },
  {
   "cell_type": "code",
   "execution_count": 9,
   "metadata": {},
   "outputs": [
    {
     "data": {
      "text/plain": [
       "array(['vickers', 'ib or mb', 'pweb', 'cctr', 'sweb',\n",
       "       'chatbot or live agent', 'internet banking', 'rewards redemption',\n",
       "       'mobile banking', 'cctr or chatbot', '0', 'channels'], dtype=object)"
      ]
     },
     "execution_count": 9,
     "metadata": {},
     "output_type": "execute_result"
    }
   ],
   "source": [
    "labels"
   ]
  },
  {
   "cell_type": "code",
   "execution_count": 12,
   "metadata": {},
   "outputs": [
    {
     "name": "stdout",
     "output_type": "stream",
     "text": [
      "No. of reviews for vickers:  25\n",
      "No. of reviews for ib/mb:  269\n",
      "No. of reviews for pweb:  441\n",
      "No. of reviews for cctr:  43\n",
      "No. of reviews for sweb:  17\n",
      "No. of reviews for chatbot or live agent:  123\n",
      "No. of reviews for internet banking:  27\n",
      "No. of reviews for rewards redemption:  3\n",
      "No. of reviews for mobile banking:  192\n",
      "No. of reviews for cctr or chatbot:  37\n",
      "No. of reviews for 0:  607\n",
      "No. of reviews for channels:  1\n"
     ]
    }
   ],
   "source": [
    "print(\"No. of reviews for vickers: \", len(df.loc[df.channels == 'vickers']))\n",
    "print(\"No. of reviews for ib/mb: \", len(df.loc[df.channels == 'ib or mb']))\n",
    "print(\"No. of reviews for pweb: \", len(df.loc[df.channels == 'pweb']))\n",
    "print(\"No. of reviews for cctr: \", len(df.loc[df.channels == 'cctr']))\n",
    "print(\"No. of reviews for sweb: \", len(df.loc[df.channels == 'sweb']))\n",
    "print(\"No. of reviews for chatbot or live agent: \", len(df.loc[df.channels == 'chatbot or live agent']))\n",
    "print(\"No. of reviews for internet banking: \", len(df.loc[df.channels == 'internet banking']))\n",
    "print(\"No. of reviews for rewards redemption: \", len(df.loc[df.channels == 'rewards redemption']))\n",
    "print(\"No. of reviews for mobile banking: \", len(df.loc[df.channels == 'mobile banking']))\n",
    "print(\"No. of reviews for cctr or chatbot: \", len(df.loc[df.channels == 'cctr or chatbot']))\n",
    "print(\"No. of reviews for 0: \", len(df.loc[df.channels == '0']))\n",
    "print(\"No. of reviews for channels: \", len(df.loc[df.channels == 'channels']))\n"
   ]
  },
  {
   "cell_type": "code",
   "execution_count": 13,
   "metadata": {},
   "outputs": [],
   "source": [
    "reviews = list(df.Comment)"
   ]
  },
  {
   "cell_type": "code",
   "execution_count": 15,
   "metadata": {},
   "outputs": [
    {
     "data": {
      "text/plain": [
       "1785"
      ]
     },
     "execution_count": 15,
     "metadata": {},
     "output_type": "execute_result"
    }
   ],
   "source": [
    "len(reviews)"
   ]
  },
  {
   "cell_type": "code",
   "execution_count": 16,
   "metadata": {},
   "outputs": [],
   "source": [
    "# Create a mapping from unique labels to integers\n",
    "label_mapping = {label: idx for idx, label in enumerate(np.unique(df[\"channels\"]))}\n",
    "\n",
    "# Map the labels in the DataFrame to integers using the mapping\n",
    "labels_encoded = df[\"channels\"].map(label_mapping).values"
   ]
  },
  {
   "cell_type": "code",
   "execution_count": 30,
   "metadata": {},
   "outputs": [
    {
     "data": {
      "text/plain": [
       "array([11, 11,  5, ...,  0,  8,  8], dtype=int64)"
      ]
     },
     "execution_count": 30,
     "metadata": {},
     "output_type": "execute_result"
    }
   ],
   "source": [
    "labels_encoded"
   ]
  },
  {
   "cell_type": "code",
   "execution_count": 17,
   "metadata": {},
   "outputs": [
    {
     "name": "stdout",
     "output_type": "stream",
     "text": [
      "Loading BERT tokenizer...\n"
     ]
    }
   ],
   "source": [
    "# Load the BERT tokenizer.\n",
    "print('Loading BERT tokenizer...')\n",
    "tokenizer = BertTokenizer.from_pretrained('bert-base-uncased', do_lower_case=True)"
   ]
  },
  {
   "cell_type": "code",
   "execution_count": 18,
   "metadata": {},
   "outputs": [
    {
     "name": "stdout",
     "output_type": "stream",
     "text": [
      "Max review length:  131\n"
     ]
    }
   ],
   "source": [
    "max_len = 0\n",
    "\n",
    "# For every review...\n",
    "for review in reviews:\n",
    "\n",
    "    # Tokenize the text and add `[CLS]` and `[SEP]` tokens.\n",
    "    input_ids = tokenizer.encode(review, add_special_tokens=True)\n",
    "\n",
    "    # Update the maximum review length.\n",
    "    max_len = max(max_len, len(input_ids))\n",
    "\n",
    "print('Max review length: ', max_len)"
   ]
  },
  {
   "cell_type": "code",
   "execution_count": 19,
   "metadata": {},
   "outputs": [],
   "source": [
    "encoded_reviews = tokenizer(reviews,\n",
    "                          max_length = 128,           # Pad & truncate all sentences.\n",
    "                          padding = 'max_length',\n",
    "                          truncation=True,\n",
    "                          return_attention_mask = True,   # Construct attn. masks.\n",
    "                          return_tensors = 'pt'     # Return pytorch tensors.\n",
    ")"
   ]
  },
  {
   "cell_type": "code",
   "execution_count": 31,
   "metadata": {},
   "outputs": [
    {
     "name": "stdout",
     "output_type": "stream",
     "text": [
      "1,606 training samples\n",
      "  179 validation samples\n"
     ]
    }
   ],
   "source": [
    "from torch.utils.data import TensorDataset, random_split\n",
    "\n",
    "# Combine the training inputs into a TensorDataset.\n",
    "#dataset = TensorDataset(input_ids, attention_masks, labels)\n",
    "dataset = TensorDataset(encoded_reviews['input_ids'], encoded_reviews['attention_mask'], torch.tensor(labels_encoded))\n",
    "\n",
    "# Create a 90-10 train-validation split.\n",
    "\n",
    "# Calculate the number of samples to include in each set.\n",
    "train_size = int(0.9 * len(dataset))\n",
    "val_size = len(dataset) - train_size\n",
    "\n",
    "# Divide the dataset by randomly selecting samples.\n",
    "train_dataset, val_dataset = random_split(dataset, [train_size, val_size])\n",
    "\n",
    "print('{:>5,} training samples'.format(train_size))\n",
    "print('{:>5,} validation samples'.format(val_size))"
   ]
  },
  {
   "cell_type": "code",
   "execution_count": 32,
   "metadata": {},
   "outputs": [],
   "source": [
    "from torch.utils.data import DataLoader, RandomSampler, SequentialSampler\n",
    "\n",
    "# The DataLoader needs to know our batch size for training, so we specify it\n",
    "# here. For fine-tuning BERT on a specific task, the authors recommend a batch\n",
    "# size of 16 or 32.\n",
    "batch_size = 32\n",
    "\n",
    "# Create the DataLoaders for our training and validation sets.\n",
    "# We'll take training samples in random order.\n",
    "train_dataloader = DataLoader(\n",
    "            train_dataset,  # The training samples.\n",
    "            sampler = RandomSampler(train_dataset), # Select batches randomly\n",
    "            batch_size = batch_size # Trains with this batch size.\n",
    "        )\n",
    "\n",
    "# For validation the order doesn't matter, so we'll just read them sequentially.\n",
    "validation_dataloader = DataLoader(\n",
    "            val_dataset, # The validation samples.\n",
    "            sampler = SequentialSampler(val_dataset), # Pull out batches sequentially.\n",
    "            batch_size = batch_size # Evaluate with this batch size.\n",
    "        )"
   ]
  },
  {
   "cell_type": "code",
   "execution_count": 34,
   "metadata": {},
   "outputs": [
    {
     "name": "stderr",
     "output_type": "stream",
     "text": [
      "Some weights of the model checkpoint at bert-base-uncased were not used when initializing BertForSequenceClassification: ['cls.predictions.transform.LayerNorm.weight', 'cls.predictions.transform.dense.weight', 'cls.seq_relationship.bias', 'cls.seq_relationship.weight', 'cls.predictions.bias', 'cls.predictions.transform.LayerNorm.bias', 'cls.predictions.transform.dense.bias']\n",
      "- This IS expected if you are initializing BertForSequenceClassification from the checkpoint of a model trained on another task or with another architecture (e.g. initializing a BertForSequenceClassification model from a BertForPreTraining model).\n",
      "- This IS NOT expected if you are initializing BertForSequenceClassification from the checkpoint of a model that you expect to be exactly identical (initializing a BertForSequenceClassification model from a BertForSequenceClassification model).\n",
      "Some weights of BertForSequenceClassification were not initialized from the model checkpoint at bert-base-uncased and are newly initialized: ['classifier.weight', 'classifier.bias']\n",
      "You should probably TRAIN this model on a down-stream task to be able to use it for predictions and inference.\n"
     ]
    }
   ],
   "source": [
    "from transformers import BertForSequenceClassification, AdamW, BertConfig\n",
    "\n",
    "# Load BertForSequenceClassification, the pretrained BERT model with a single\n",
    "# linear classification layer on top.\n",
    "model = BertForSequenceClassification.from_pretrained(\n",
    "    \"bert-base-uncased\", # Use the 12-layer BERT model, with an uncased vocab.\n",
    "    num_labels = 12, \n",
    "                    # You can increase this for multi-class tasks.\n",
    "    output_attentions = False, # Whether the model returns attentions weights.\n",
    "    output_hidden_states = False, # Whether the model returns all hidden-states.\n",
    ")\n",
    "\n",
    "# Tell pytorch to run this model on the GPU.\n",
    "# model.cuda()"
   ]
  },
  {
   "cell_type": "code",
   "execution_count": 35,
   "metadata": {},
   "outputs": [
    {
     "name": "stderr",
     "output_type": "stream",
     "text": [
      "C:\\Users\\Xavior\\AppData\\Local\\Packages\\PythonSoftwareFoundation.Python.3.10_qbz5n2kfra8p0\\LocalCache\\local-packages\\Python310\\site-packages\\transformers\\optimization.py:411: FutureWarning: This implementation of AdamW is deprecated and will be removed in a future version. Use the PyTorch implementation torch.optim.AdamW instead, or set `no_deprecation_warning=True` to disable this warning\n",
      "  warnings.warn(\n"
     ]
    }
   ],
   "source": [
    "# Note: AdamW is a class from the huggingface library (as opposed to pytorch)\n",
    "# 'W' stands for 'Weight Decay fix\"\n",
    "optimizer = AdamW(model.parameters(),\n",
    "                  lr = 2e-5, # args.learning_rate - default is 5e-5, our notebook had 2e-5\n",
    "                  eps = 1e-8 # args.adam_epsilon  - default is 1e-8.\n",
    "                )"
   ]
  },
  {
   "cell_type": "code",
   "execution_count": 41,
   "metadata": {},
   "outputs": [
    {
     "name": "stdout",
     "output_type": "stream",
     "text": [
      "255\n"
     ]
    }
   ],
   "source": [
    "from transformers import get_linear_schedule_with_warmup\n",
    "\n",
    "# Number of training epochs. The BERT authors recommend between 2 and 4.\n",
    "# We chose to run for 4, but we'll see later that this may be over-fitting the\n",
    "# training data.\n",
    "epochs = 5\n",
    "\n",
    "# Total number of training steps is [number of batches] x [number of epochs].\n",
    "# (Note that this is not the same as the number of training samples).\n",
    "total_steps = len(train_dataloader) * epochs\n",
    "print(total_steps)\n",
    "\n",
    "# Create the learning rate scheduler.\n",
    "scheduler = get_linear_schedule_with_warmup(optimizer,\n",
    "                                            num_warmup_steps = 0, # Default value in run_glue.py\n",
    "                                            num_training_steps = total_steps)"
   ]
  },
  {
   "cell_type": "code",
   "execution_count": 42,
   "metadata": {},
   "outputs": [],
   "source": [
    "import numpy as np\n",
    "\n",
    "# Function to calculate the accuracy of our predictions vs labels\n",
    "def flat_accuracy(preds, labels):\n",
    "    pred_flat = np.argmax(preds, axis=1).flatten()\n",
    "    labels_flat = labels.flatten()\n",
    "    return np.sum(pred_flat == labels_flat) / len(labels_flat)"
   ]
  },
  {
   "cell_type": "code",
   "execution_count": 43,
   "metadata": {},
   "outputs": [],
   "source": [
    "import time\n",
    "import datetime\n",
    "\n",
    "def format_time(elapsed):\n",
    "    '''\n",
    "    Takes a time in seconds and returns a string hh:mm:ss\n",
    "    '''\n",
    "    # Round to the nearest second.\n",
    "    elapsed_rounded = int(round((elapsed)))\n",
    "\n",
    "    # Format as hh:mm:ss\n",
    "    return str(datetime.timedelta(seconds=elapsed_rounded))\n"
   ]
  },
  {
   "cell_type": "code",
   "execution_count": 44,
   "metadata": {},
   "outputs": [],
   "source": [
    "import random\n",
    "import numpy as np\n",
    "\n",
    "# This training code is based on the `run_glue.py` script here:\n",
    "# https://github.com/huggingface/transformers/blob/5bfcd0485ece086ebcbed2d008813037968a9e58/examples/run_glue.py#L128\n",
    "\n",
    "# Set the seed value all over the place to make this reproducible.\n",
    "seed_val = 42\n",
    "\n",
    "random.seed(seed_val)\n",
    "np.random.seed(seed_val)\n",
    "torch.manual_seed(seed_val)\n",
    "torch.cuda.manual_seed_all(seed_val)\n",
    "\n",
    "# We'll store a number of quantities such as training and validation loss,\n",
    "# validation accuracy, and timings.\n",
    "training_stats = []\n",
    "\n",
    "# Measure the total training time for the whole run.\n",
    "total_t0 = time.time()"
   ]
  },
  {
   "cell_type": "code",
   "execution_count": 47,
   "metadata": {},
   "outputs": [
    {
     "name": "stdout",
     "output_type": "stream",
     "text": [
      "\n",
      "======== Epoch 1 / 5 ========\n",
      "Training...\n",
      "  Batch    10  of     51.    Elapsed: 0:02:47.\n",
      "  Batch    20  of     51.    Elapsed: 0:05:39.\n",
      "  Batch    30  of     51.    Elapsed: 0:08:31.\n",
      "  Batch    40  of     51.    Elapsed: 0:11:24.\n",
      "  Batch    50  of     51.    Elapsed: 0:14:16.\n",
      "\n",
      "  Average training loss: 0.87\n",
      "  Training epoch took: 0:14:19\n",
      "\n",
      "Running Validation...\n",
      "  Accuracy: 0.79\n",
      "  Validation Loss: 0.82\n",
      "  Validation took: 0:00:34\n",
      "\n",
      "======== Epoch 2 / 5 ========\n",
      "Training...\n",
      "  Batch    10  of     51.    Elapsed: 0:02:52.\n",
      "  Batch    20  of     51.    Elapsed: 0:05:44.\n",
      "  Batch    30  of     51.    Elapsed: 0:08:35.\n",
      "  Batch    40  of     51.    Elapsed: 0:11:03.\n",
      "  Batch    50  of     51.    Elapsed: 0:13:29.\n",
      "\n",
      "  Average training loss: 0.66\n",
      "  Training epoch took: 0:13:32\n",
      "\n",
      "Running Validation...\n",
      "  Accuracy: 0.79\n",
      "  Validation Loss: 0.79\n",
      "  Validation took: 0:00:30\n",
      "\n",
      "======== Epoch 3 / 5 ========\n",
      "Training...\n",
      "  Batch    10  of     51.    Elapsed: 0:02:34.\n",
      "  Batch    20  of     51.    Elapsed: 0:05:24.\n",
      "  Batch    30  of     51.    Elapsed: 0:08:15.\n",
      "  Batch    40  of     51.    Elapsed: 0:11:06.\n",
      "  Batch    50  of     51.    Elapsed: 0:13:39.\n",
      "\n",
      "  Average training loss: 0.54\n",
      "  Training epoch took: 0:13:43\n",
      "\n",
      "Running Validation...\n",
      "  Accuracy: 0.79\n",
      "  Validation Loss: 0.76\n",
      "  Validation took: 0:00:29\n",
      "\n",
      "======== Epoch 4 / 5 ========\n",
      "Training...\n",
      "  Batch    10  of     51.    Elapsed: 0:02:26.\n",
      "  Batch    20  of     51.    Elapsed: 0:05:01.\n",
      "  Batch    30  of     51.    Elapsed: 0:07:53.\n",
      "  Batch    40  of     51.    Elapsed: 0:10:44.\n",
      "  Batch    50  of     51.    Elapsed: 0:13:36.\n",
      "\n",
      "  Average training loss: 0.45\n",
      "  Training epoch took: 0:13:39\n",
      "\n",
      "Running Validation...\n",
      "  Accuracy: 0.78\n",
      "  Validation Loss: 0.79\n",
      "  Validation took: 0:00:34\n",
      "\n",
      "======== Epoch 5 / 5 ========\n",
      "Training...\n",
      "  Batch    10  of     51.    Elapsed: 0:02:46.\n",
      "  Batch    20  of     51.    Elapsed: 0:05:11.\n",
      "  Batch    30  of     51.    Elapsed: 0:07:37.\n",
      "  Batch    40  of     51.    Elapsed: 0:10:09.\n",
      "  Batch    50  of     51.    Elapsed: 0:12:56.\n",
      "\n",
      "  Average training loss: 0.41\n",
      "  Training epoch took: 0:13:00\n",
      "\n",
      "Running Validation...\n",
      "  Accuracy: 0.78\n",
      "  Validation Loss: 0.79\n",
      "  Validation took: 0:00:30\n",
      "\n",
      "Training complete!\n",
      "Total training took 1:12:07 (h:mm:ss)\n"
     ]
    }
   ],
   "source": [
    "# For each epoch...\n",
    "for epoch_i in range(0, epochs):\n",
    "\n",
    "    # ========================================\n",
    "    #               Training\n",
    "    # ========================================\n",
    "\n",
    "    # Perform one full pass over the training set.\n",
    "\n",
    "    print(\"\")\n",
    "    print('======== Epoch {:} / {:} ========'.format(epoch_i + 1, epochs))\n",
    "    print('Training...')\n",
    "\n",
    "    # Measure how long the training epoch takes.\n",
    "    t0 = time.time()\n",
    "\n",
    "    # Reset the total loss for this epoch.\n",
    "    total_train_loss = 0\n",
    "\n",
    "    # Put the model into training mode. Don't be mislead--the call to\n",
    "    # `train` just changes the *mode*, it doesn't *perform* the training.\n",
    "    # `dropout` and `batchnorm` layers behave differently during training\n",
    "    # vs. test (source: https://stackoverflow.com/questions/51433378/what-does-model-train-do-in-pytorch)\n",
    "    model.train()\n",
    "\n",
    "\n",
    "# For each batch of training data...\n",
    "    for step, batch in enumerate(train_dataloader):\n",
    "\n",
    "        # Progress update every 40 batches.\n",
    "        if step % 10 == 0 and not step == 0:\n",
    "            # Calculate elapsed time in minutes.\n",
    "            elapsed = format_time(time.time() - t0)\n",
    "\n",
    "            # Report progress.\n",
    "            print('  Batch {:>5,}  of  {:>5,}.    Elapsed: {:}.'.format(step, len(train_dataloader), elapsed))\n",
    "\n",
    "        # Unpack this training batch from our dataloader.\n",
    "        #\n",
    "        # As we unpack the batch, we'll also copy each tensor to the GPU using the\n",
    "        # `to` method.\n",
    "        #\n",
    "        # `batch` contains three pytorch tensors:\n",
    "        #   [0]: input ids\n",
    "        #   [1]: attention masks\n",
    "        #   [2]: labels\n",
    "        b_input_ids = batch[0].to(device)\n",
    "        b_input_mask = batch[1].to(device)\n",
    "        b_labels = batch[2].to(device)\n",
    "\n",
    "        # Always clear any previously calculated gradients before performing a\n",
    "        # backward pass. PyTorch doesn't do this automatically because\n",
    "        # accumulating the gradients is \"convenient while training RNNs\".\n",
    "        # (source: https://stackoverflow.com/questions/48001598/why-do-we-need-to-call-zero-grad-in-pytorch)\n",
    "        model.zero_grad()\n",
    "\n",
    "        # Perform a forward pass (evaluate the model on this training batch).\n",
    "        # The documentation for this `model` function is here:\n",
    "        # https://huggingface.co/transformers/v2.2.0/model_doc/bert.html#transformers.BertForSequenceClassification\n",
    "        # It returns different numbers of parameters depending on what arguments\n",
    "        # arge given and what flags are set. For our useage here, it returns\n",
    "        # the loss (because we provided labels) and the \"logits\"--the model\n",
    "        # outputs prior to activation.\n",
    "        outputs = model(b_input_ids,\n",
    "                        token_type_ids=None,\n",
    "                        attention_mask=b_input_mask,\n",
    "                        labels=b_labels)\n",
    "\n",
    "        # Accumulate the training loss over all of the batches so that we can\n",
    "        # calculate the average loss at the end. `loss` is a Tensor containing a\n",
    "        # single value; the `.item()` function just returns the Python value\n",
    "        # from the tensor.\n",
    "        loss = outputs.loss\n",
    "        total_train_loss += loss.item()\n",
    "\n",
    "        # Perform a backward pass to calculate the gradients.\n",
    "        loss.backward()\n",
    "\n",
    "        # Clip the norm of the gradients to 1.0.\n",
    "        # This is to help prevent the \"exploding gradients\" problem.\n",
    "        torch.nn.utils.clip_grad_norm_(model.parameters(), 1.0)\n",
    "\n",
    "        # Update parameters and take a step using the computed gradient.\n",
    "        # The optimizer dictates the \"update rule\"--how the parameters are\n",
    "        # modified based on their gradients, the learning rate, etc.\n",
    "        optimizer.step()\n",
    "\n",
    "        # Update the learning rate.\n",
    "        scheduler.step()\n",
    "\n",
    "    # Calculate the average loss over all of the batches.\n",
    "    avg_train_loss = total_train_loss / len(train_dataloader)\n",
    "\n",
    "    # Measure how long this epoch took.\n",
    "    training_time = format_time(time.time() - t0)\n",
    "\n",
    "    print(\"\")\n",
    "    print(\"  Average training loss: {0:.2f}\".format(avg_train_loss))\n",
    "    print(\"  Training epoch took: {:}\".format(training_time))\n",
    "\n",
    "    # ========================================\n",
    "    #               Validation\n",
    "    # ========================================\n",
    "    # After the completion of each training epoch, measure our performance on\n",
    "    # our validation set.\n",
    "\n",
    "    print(\"\")\n",
    "    print(\"Running Validation...\")\n",
    "\n",
    "    t0 = time.time()\n",
    "\n",
    "    # Put the model in evaluation mode--the dropout layers behave differently\n",
    "    # during evaluation.\n",
    "    model.eval()\n",
    "\n",
    "    # Tracking variables\n",
    "    total_eval_accuracy = 0\n",
    "    total_eval_loss = 0\n",
    "    nb_eval_steps = 0\n",
    "\n",
    "    # Evaluate data for one epoch\n",
    "    for batch in validation_dataloader:\n",
    "\n",
    "        # Unpack this training batch from our dataloader.\n",
    "        #\n",
    "        # As we unpack the batch, we'll also copy each tensor to the GPU using\n",
    "        # the `to` method.\n",
    "        #\n",
    "        # `batch` contains three pytorch tensors:\n",
    "        #   [0]: input ids\n",
    "        #   [1]: attention masks\n",
    "        #   [2]: labels\n",
    "        b_input_ids = batch[0].to(device)\n",
    "        b_input_mask = batch[1].to(device)\n",
    "        b_labels = batch[2].to(device)\n",
    "\n",
    "        # Tell pytorch not to bother with constructing the compute graph during\n",
    "        # the forward pass, since this is only needed for backprop (training).\n",
    "        with torch.no_grad():\n",
    "\n",
    "            # Forward pass, calculate logit predictions.\n",
    "            # token_type_ids is the same as the \"segment ids\", which\n",
    "            # differentiates sentence 1 and 2 in 2-sentence tasks.\n",
    "            # The documentation for this `model` function is here:\n",
    "            # https://huggingface.co/transformers/v2.2.0/model_doc/bert.html#transformers.BertForSequenceClassification\n",
    "            # Get the \"logits\" output by the model. The \"logits\" are the output\n",
    "            # values prior to applying an activation function like the softmax.\n",
    "            outputs = model(b_input_ids,\n",
    "                            token_type_ids=None,\n",
    "                            attention_mask=b_input_mask,\n",
    "                            labels=b_labels)\n",
    "\n",
    "        # Accumulate the validation loss.\n",
    "        loss = outputs.loss\n",
    "        total_eval_loss += loss.item()\n",
    "\n",
    "        # Move logits and labels to CPU\n",
    "        logits = outputs.logits.detach().cpu().numpy()\n",
    "        label_ids = b_labels.to('cpu').numpy()\n",
    "\n",
    "        # Calculate the accuracy for this batch of test sentences, and\n",
    "        # accumulate it over all batches.\n",
    "        total_eval_accuracy += flat_accuracy(logits, label_ids)\n",
    "\n",
    "\n",
    "    # Report the final accuracy for this validation run.\n",
    "    avg_val_accuracy = total_eval_accuracy / len(validation_dataloader)\n",
    "    print(\"  Accuracy: {0:.2f}\".format(avg_val_accuracy))\n",
    "\n",
    "    # Calculate the average loss over all of the batches.\n",
    "    avg_val_loss = total_eval_loss / len(validation_dataloader)\n",
    "\n",
    "    # Measure how long the validation run took.\n",
    "    validation_time = format_time(time.time() - t0)\n",
    "\n",
    "    print(\"  Validation Loss: {0:.2f}\".format(avg_val_loss))\n",
    "    print(\"  Validation took: {:}\".format(validation_time))\n",
    "\n",
    "    # Record all statistics from this epoch.\n",
    "    training_stats.append(\n",
    "        {\n",
    "            'epoch': epoch_i + 1,\n",
    "            'Training Loss': avg_train_loss,\n",
    "            'Valid. Loss': avg_val_loss,\n",
    "            'Valid. Accur.': avg_val_accuracy,\n",
    "            'Training Time': training_time,\n",
    "            'Validation Time': validation_time\n",
    "        }\n",
    "    )\n",
    "\n",
    "print(\"\")\n",
    "print(\"Training complete!\")\n",
    "\n",
    "print(\"Total training took {:} (h:mm:ss)\".format(format_time(time.time()-total_t0)))"
   ]
  },
  {
   "cell_type": "code",
   "execution_count": 48,
   "metadata": {},
   "outputs": [
    {
     "data": {
      "text/plain": [
       "[{'epoch': 1,\n",
       "  'Training Loss': 0.8657965987336402,\n",
       "  'Valid. Loss': 0.8222741037607193,\n",
       "  'Valid. Accur.': 0.7875548245614036,\n",
       "  'Training Time': '0:14:19',\n",
       "  'Validation Time': '0:00:34'},\n",
       " {'epoch': 2,\n",
       "  'Training Loss': 0.6550304714371177,\n",
       "  'Valid. Loss': 0.7853141129016876,\n",
       "  'Valid. Accur.': 0.7927631578947368,\n",
       "  'Training Time': '0:13:32',\n",
       "  'Validation Time': '0:00:30'},\n",
       " {'epoch': 3,\n",
       "  'Training Loss': 0.5352359308915979,\n",
       "  'Valid. Loss': 0.7634687423706055,\n",
       "  'Valid. Accur.': 0.7875548245614036,\n",
       "  'Training Time': '0:13:43',\n",
       "  'Validation Time': '0:00:29'},\n",
       " {'epoch': 4,\n",
       "  'Training Loss': 0.44953692996618794,\n",
       "  'Valid. Loss': 0.7855844497680664,\n",
       "  'Valid. Accur.': 0.7771381578947368,\n",
       "  'Training Time': '0:13:39',\n",
       "  'Validation Time': '0:00:34'},\n",
       " {'epoch': 5,\n",
       "  'Training Loss': 0.4122834997434242,\n",
       "  'Valid. Loss': 0.7876992225646973,\n",
       "  'Valid. Accur.': 0.7771381578947368,\n",
       "  'Training Time': '0:13:00',\n",
       "  'Validation Time': '0:00:30'}]"
      ]
     },
     "execution_count": 48,
     "metadata": {},
     "output_type": "execute_result"
    }
   ],
   "source": [
    "training_stats"
   ]
  },
  {
   "cell_type": "code",
   "execution_count": 50,
   "metadata": {},
   "outputs": [
    {
     "data": {
      "image/png": "[encoded data removed]",
      "text/plain": [
       "<Figure size 1200x600 with 1 Axes>"
      ]
     },
     "metadata": {},
     "output_type": "display_data"
    }
   ],
   "source": [
    "import matplotlib.pyplot as plt\n",
    "%matplotlib inline\n",
    "\n",
    "import seaborn as sns\n",
    "\n",
    "df_stats = pd.DataFrame(data=training_stats)\n",
    "\n",
    "# Use plot styling from seaborn.\n",
    "sns.set(style='darkgrid')\n",
    "\n",
    "# Increase the plot size and font size.\n",
    "sns.set(font_scale=1.5)\n",
    "plt.rcParams[\"figure.figsize\"] = (12,6)\n",
    "\n",
    "# Plot the learning curve.\n",
    "plt.plot(df_stats['Training Loss'], 'b-o', label=\"Training\")\n",
    "plt.plot(df_stats['Valid. Loss'], 'g-o', label=\"Validation\")\n",
    "\n",
    "# Label the plot.\n",
    "plt.title(\"Training & Validation Loss\")\n",
    "plt.xlabel(\"Epoch\")\n",
    "plt.ylabel(\"Loss\")\n",
    "plt.legend()\n",
    "plt.xticks([1, 2, 3, 4, 5])\n",
    "\n",
    "plt.show()"
   ]
  },
  {
   "cell_type": "code",
   "execution_count": 60,
   "metadata": {},
   "outputs": [
    {
     "name": "stdout",
     "output_type": "stream",
     "text": [
      "Number of test sentences: 107\n",
      "\n"
     ]
    }
   ],
   "source": [
    "# Load the dataset into a pandas dataframe.\n",
    "df_test = pd.read_excel(\"for_textclassification_data_test.xlsx\")\n",
    "\n",
    "# Report the number of sentences.\n",
    "print('Number of test sentences: {:,}\\n'.format(df_test.shape[0]))\n",
    "\n",
    "# Create sentence and label lists\n",
    "sentences_test = df_test.Comment.values\n",
    "labels_test = df_test[\"channels\"].map(label_mapping).values\n",
    "\n",
    "# Tokenize all of the sentences and map the tokens to thier word IDs.\n",
    "input_ids = []\n",
    "attention_masks = []\n",
    "\n",
    "# For every sentence...\n",
    "for sent in sentences_test:\n",
    "    encoded_dict = tokenizer.encode_plus(\n",
    "                        sent,                      # Sentence to encode.\n",
    "                        add_special_tokens = True, # Add '[CLS]' and '[SEP]'\n",
    "                        max_length = 128,           # Pad & truncate all sentences.\n",
    "                        truncation = True,\n",
    "                        padding = 'max_length',\n",
    "                        return_attention_mask = True,   # Construct attn. masks.\n",
    "                        return_tensors = 'pt',     # Return pytorch tensors.\n",
    "                   )\n",
    "\n",
    "    # Add the encoded sentence to the list.\n",
    "    input_ids.append(encoded_dict['input_ids'])\n",
    "\n",
    "    # And its attention mask (simply differentiates padding from non-padding).\n",
    "    attention_masks.append(encoded_dict['attention_mask'])\n",
    "\n",
    "# Convert the lists into tensors.\n",
    "input_ids = torch.cat(input_ids, dim=0)\n",
    "attention_masks = torch.cat(attention_masks, dim=0)\n",
    "labels_test = torch.tensor(labels_test)\n",
    "\n",
    "# Set the batch size.\n",
    "batch_size = 32\n",
    "\n",
    "# Create the DataLoader.\n",
    "prediction_data = TensorDataset(input_ids, attention_masks, labels_test)\n",
    "prediction_sampler = SequentialSampler(prediction_data)\n",
    "prediction_dataloader = DataLoader(prediction_data, sampler=prediction_sampler, batch_size=batch_size)"
   ]
  },
  {
   "cell_type": "code",
   "execution_count": 61,
   "metadata": {},
   "outputs": [
    {
     "name": "stdout",
     "output_type": "stream",
     "text": [
      "Predicting labels for 107 test sentences...\n",
      "    DONE.\n"
     ]
    }
   ],
   "source": [
    "# Prediction on test set\n",
    "\n",
    "print('Predicting labels for {:,} test sentences...'.format(len(input_ids)))\n",
    "\n",
    "# Put model in evaluation mode\n",
    "model.eval()\n",
    "\n",
    "# Tracking variables\n",
    "predictions , true_labels = [], []\n",
    "\n",
    "# Predict\n",
    "for batch in prediction_dataloader:\n",
    "  # Add batch to GPU\n",
    "  batch = tuple(t.to(device) for t in batch)\n",
    "\n",
    "  # Unpack the inputs from our dataloader\n",
    "  b_input_ids, b_input_mask, b_labels = batch\n",
    "\n",
    "  # Telling the model not to compute or store gradients, saving memory and\n",
    "  # speeding up prediction\n",
    "  with torch.no_grad():\n",
    "      # Forward pass, calculate logit predictions\n",
    "      outputs = model(b_input_ids, token_type_ids=None,  #pass ID and mask, not labels, labels only pass during training\n",
    "                      attention_mask=b_input_mask)\n",
    "\n",
    "  logits = outputs[0]\n",
    "\n",
    "  # Move logits and labels to CPU\n",
    "  logits = logits.detach().cpu().numpy()\n",
    "  label_ids = b_labels.to('cpu').numpy()\n",
    "\n",
    "  # Store predictions and true labels\n",
    "  predictions.append(logits)\n",
    "  true_labels.append(label_ids)\n",
    "\n",
    "print('    DONE.')"
   ]
  },
  {
   "cell_type": "code",
   "execution_count": 62,
   "metadata": {},
   "outputs": [
    {
     "data": {
      "text/plain": [
       "array([[-1.45104742e+00, -8.10069561e-01, -8.92128229e-01,\n",
       "        -4.37359780e-01, -7.41080701e-01,  6.02828145e-01,\n",
       "        -1.15123257e-01,  4.47845936e+00, -6.26573920e-01,\n",
       "        -6.99770629e-01, -1.28062177e+00, -3.73583660e-02],\n",
       "       [-1.15062833e+00,  5.58616184e-02, -1.83272541e-01,\n",
       "        -1.55829704e+00, -1.38057828e-01,  2.04449153e+00,\n",
       "        -1.86923593e-01, -5.83616495e-01,  2.60208702e+00,\n",
       "        -1.04350793e+00,  5.96553609e-02, -2.33675897e-01],\n",
       "       [-1.61928773e+00, -7.55871534e-01, -9.48701859e-01,\n",
       "        -4.95131284e-01, -2.72451580e-01,  4.26383317e-01,\n",
       "         1.54067669e-02,  4.62407732e+00, -1.23817062e+00,\n",
       "        -4.45187896e-01, -1.09548891e+00,  1.09713525e-01],\n",
       "       [-2.37953973e+00, -1.00018752e+00, -1.15986204e+00,\n",
       "        -5.66239297e-01, -7.50553191e-01,  3.62578893e+00,\n",
       "         2.96393514e-01,  2.60880947e+00, -1.16108906e+00,\n",
       "        -6.27164006e-01, -7.94132411e-01,  4.69127953e-01],\n",
       "       [-1.54492176e+00,  1.09305620e+00,  1.00710130e+00,\n",
       "        -5.04741490e-01,  2.48692274e+00,  2.26220146e-01,\n",
       "         3.49542648e-02, -3.66991222e-01, -2.38749593e-01,\n",
       "        -2.23187789e-01, -1.26403838e-01, -4.12343115e-01],\n",
       "       [-1.88939214e+00, -6.22136116e-01, -8.11406076e-01,\n",
       "        -7.53996432e-01, -6.53217971e-01,  4.33417797e+00,\n",
       "         1.08523145e-01,  6.52345359e-01, -1.27921045e-01,\n",
       "        -7.71320283e-01, -3.91205400e-01,  2.54301727e-01],\n",
       "       [-1.13388157e+00,  1.47680473e+00,  1.49853826e+00,\n",
       "        -3.95669430e-01,  2.40578985e+00, -3.97026002e-01,\n",
       "        -9.01599973e-02, -6.66657746e-01,  5.21524668e-01,\n",
       "        -4.49126750e-01, -3.32370013e-01, -7.31720209e-01],\n",
       "       [ 3.73153329e+00, -4.74687278e-01, -8.53627086e-01,\n",
       "        -5.81457436e-01, -1.12278450e+00, -9.67429996e-01,\n",
       "        -6.00255489e-01, -1.22580731e+00,  1.83745205e+00,\n",
       "        -4.75791276e-01,  4.34476323e-03, -1.18044071e-01],\n",
       "       [-6.69921041e-01,  3.45430255e-01,  3.00659686e-01,\n",
       "        -1.19213605e+00,  3.72587085e-01,  1.81935072e-01,\n",
       "        -3.36716890e-01, -3.45579416e-01,  3.92375994e+00,\n",
       "        -1.21943963e+00, -5.47597706e-01, -1.01603305e+00],\n",
       "       [-2.23443675e+00, -7.79520631e-01, -1.08208704e+00,\n",
       "        -5.48181951e-01, -7.89907396e-01,  3.85255194e+00,\n",
       "         2.65592247e-01,  1.68449402e+00, -7.72481561e-01,\n",
       "        -6.44399166e-01, -5.60854673e-01,  5.80913067e-01],\n",
       "       [ 5.47867250e+00, -4.75637853e-01, -8.56774449e-01,\n",
       "        -2.87492067e-01, -1.25913906e+00, -1.10157931e+00,\n",
       "        -5.96357465e-01, -1.28947830e+00,  6.05106890e-01,\n",
       "        -3.98481548e-01, -5.73499501e-02, -4.60364550e-01],\n",
       "       [ 6.70802593e-01, -8.43294710e-02, -2.00406030e-01,\n",
       "        -1.24403071e+00, -8.96929204e-01,  1.18434109e-01,\n",
       "        -6.24844313e-01, -1.06099343e+00,  4.97170448e+00,\n",
       "        -1.28706634e+00, -4.78832096e-01, -1.03462148e+00],\n",
       "       [ 1.50326562e+00, -1.52409524e-01, -4.64219391e-01,\n",
       "        -1.21127188e+00, -1.28140843e+00, -3.44463557e-01,\n",
       "        -7.80170798e-01, -1.32761991e+00,  4.67732477e+00,\n",
       "        -1.26907599e+00, -2.77750760e-01, -7.50748515e-01],\n",
       "       [ 8.91600966e-01, -9.40397680e-02, -1.76173404e-01,\n",
       "        -1.60894251e+00, -2.08163291e-01,  3.90061617e-01,\n",
       "        -4.31346893e-01, -1.91944587e+00,  3.90340734e+00,\n",
       "        -1.27166784e+00,  2.53866345e-01, -4.10206676e-01],\n",
       "       [ 1.06987453e+00, -7.77130276e-02, -3.02222937e-01,\n",
       "        -1.50246274e+00, -1.15229082e+00,  4.74597842e-01,\n",
       "        -5.30039966e-01, -2.09029341e+00,  4.42081833e+00,\n",
       "        -1.08030879e+00,  2.92739004e-01, -4.23890889e-01],\n",
       "       [-1.70201123e+00, -8.42058718e-01, -1.03177369e+00,\n",
       "        -3.69037271e-01, -5.63697219e-01,  1.01643097e+00,\n",
       "         8.30139145e-02,  4.64056253e+00, -1.42050469e+00,\n",
       "        -5.35974205e-01, -1.20883429e+00,  1.40510261e-01],\n",
       "       [-8.41570735e-01,  1.54241168e+00,  1.31345809e+00,\n",
       "        -5.45185804e-01,  2.15976048e+00, -4.57133234e-01,\n",
       "        -1.45749927e-01, -6.26524329e-01,  9.47595954e-01,\n",
       "        -5.45045912e-01, -3.85157615e-01, -7.71240473e-01],\n",
       "       [-1.55762887e+00, -7.82309830e-01, -8.85133982e-01,\n",
       "        -6.01660311e-01, -2.00617850e-01,  7.46218562e-01,\n",
       "         3.89244929e-02,  4.55281210e+00, -1.05838764e+00,\n",
       "        -6.73602521e-01, -1.26851261e+00, -9.23915859e-03],\n",
       "       [-1.60973978e+00, -8.06141138e-01, -8.26082110e-01,\n",
       "        -3.95394385e-01, -5.20883679e-01,  6.37009382e-01,\n",
       "         2.82026175e-02,  4.68690538e+00, -1.21015823e+00,\n",
       "        -4.78347242e-01, -1.20480180e+00,  2.70364676e-02],\n",
       "       [-1.27803504e+00, -6.67999268e-01, -7.79834151e-01,\n",
       "        -2.23085120e-01, -4.26326454e-01,  4.15124185e-02,\n",
       "        -7.41305500e-02,  4.56527948e+00, -1.19168043e+00,\n",
       "        -3.82349163e-01, -1.14496982e+00,  1.66908768e-03],\n",
       "       [-1.61123252e+00, -8.16908300e-01, -9.68076348e-01,\n",
       "        -6.48260057e-01, -4.70554411e-01,  8.88260245e-01,\n",
       "         9.95264971e-04,  4.69869995e+00, -1.06137431e+00,\n",
       "        -6.31212533e-01, -1.20075858e+00,  9.36496034e-02],\n",
       "       [-1.42691982e+00, -7.47172117e-01, -7.79391170e-01,\n",
       "        -3.45132709e-01, -2.57957369e-01,  2.27650002e-01,\n",
       "        -2.39853542e-02,  4.67588615e+00, -1.24886000e+00,\n",
       "        -4.38635677e-01, -1.14736688e+00, -3.57796922e-02],\n",
       "       [-1.53815675e+00, -7.71094918e-01, -9.87453938e-01,\n",
       "        -3.36238712e-01, -4.89080906e-01,  5.50114512e-01,\n",
       "         1.86208133e-02,  4.57334566e+00, -1.17155159e+00,\n",
       "        -3.27807933e-01, -1.09568703e+00,  1.35968834e-01],\n",
       "       [-1.59660482e+00, -7.23199785e-01, -8.56777370e-01,\n",
       "        -4.99217093e-01, -3.99628617e-02,  5.60836494e-01,\n",
       "         2.85781864e-02,  4.74453831e+00, -1.45087874e+00,\n",
       "        -4.55183357e-01, -1.16959810e+00,  9.32056233e-02],\n",
       "       [-1.67353499e+00, -7.87897110e-01, -8.73405814e-01,\n",
       "        -4.70761865e-01, -2.41124943e-01,  4.97030646e-01,\n",
       "         3.38505656e-02,  4.72202349e+00, -1.29255068e+00,\n",
       "        -4.99560446e-01, -1.11920798e+00,  5.90303615e-02],\n",
       "       [-1.62300658e+00, -7.26521730e-01, -9.10611272e-01,\n",
       "        -4.18042690e-01, -8.22053999e-02,  5.32204628e-01,\n",
       "         2.87453476e-02,  4.62239313e+00, -1.68350720e+00,\n",
       "        -2.51006603e-01, -9.95580673e-01,  2.45319813e-01],\n",
       "       [-1.78838849e+00, -6.14901245e-01, -5.00398636e-01,\n",
       "        -3.26626211e-01,  4.30643670e-02,  8.11852455e-01,\n",
       "         2.84000903e-01,  4.40725374e+00, -1.52741611e+00,\n",
       "        -4.55271721e-01, -1.18846893e+00, -2.03656834e-02],\n",
       "       [-1.47517204e+00, -8.09152961e-01, -1.02089536e+00,\n",
       "        -4.56303269e-01, -4.89904583e-01,  7.85637856e-01,\n",
       "         6.26825094e-02,  4.60005283e+00, -1.39016688e+00,\n",
       "        -5.16905606e-01, -1.16480267e+00,  1.71262920e-01],\n",
       "       [-1.18163872e+00, -9.49960709e-01, -1.06267178e+00,\n",
       "        -6.90833986e-01, -9.82665241e-01,  1.07260537e+00,\n",
       "        -1.59180254e-01,  4.19609976e+00, -9.37043056e-02,\n",
       "        -8.71032536e-01, -1.27698290e+00, -4.84288409e-02],\n",
       "       [-1.51343822e+00, -7.26373553e-01, -8.81902575e-01,\n",
       "        -4.57123786e-01, -7.92008936e-01,  5.74833751e-01,\n",
       "        -1.33900568e-01,  4.50557566e+00, -6.94374263e-01,\n",
       "        -6.72233641e-01, -1.26821542e+00, -1.64434221e-02],\n",
       "       [-1.65468049e+00, -1.35641932e-01, -4.62973386e-01,\n",
       "        -1.77842116e+00, -2.72696346e-01,  2.32153797e+00,\n",
       "        -1.50772452e-01,  1.00667384e-02,  2.98968029e+00,\n",
       "        -1.20620120e+00, -1.07569411e-01, -1.62296087e-01],\n",
       "       [-2.47450161e+00, -9.08699274e-01, -9.65093851e-01,\n",
       "        -7.00879216e-01, -2.21868634e-01,  2.55648804e+00,\n",
       "         3.59325171e-01,  3.46220303e+00, -1.05830765e+00,\n",
       "        -6.44096971e-01, -8.95540595e-01,  1.88736796e-01]], dtype=float32)"
      ]
     },
     "execution_count": 62,
     "metadata": {},
     "output_type": "execute_result"
    }
   ],
   "source": [
    "predictions[0]"
   ]
  },
  {
   "cell_type": "code",
   "execution_count": 65,
   "metadata": {},
   "outputs": [
    {
     "name": "stdout",
     "output_type": "stream",
     "text": [
      "Accuracy for batch:  0.8125\n",
      "Accuracy for batch:  0.84375\n",
      "Accuracy for batch:  1.0\n",
      "Accuracy for batch:  0.9090909090909091\n",
      "Overall accuracy for test set: 0.8913352272727273\n"
     ]
    }
   ],
   "source": [
    "total_test_accuracy = 0\n",
    "for p, t in zip(predictions, true_labels):\n",
    "  print(\"Accuracy for batch: \", flat_accuracy(p, t))\n",
    "  total_test_accuracy += flat_accuracy(p, t)\n",
    "\n",
    "print(\"Overall accuracy for test set:\", total_test_accuracy/len(predictions))"
   ]
  },
  {
   "cell_type": "code",
   "execution_count": 63,
   "metadata": {},
   "outputs": [
    {
     "name": "stdout",
     "output_type": "stream",
     "text": [
      "Calculating Matthews Corr. Coef. for each batch...\n"
     ]
    }
   ],
   "source": [
    "from sklearn.metrics import matthews_corrcoef\n",
    "\n",
    "matthews_set = []\n",
    "pred_labels = []\n",
    "# Evaluate each test batch using Matthew's correlation coefficient\n",
    "print('Calculating Matthews Corr. Coef. for each batch...')\n",
    "\n",
    "# For each input batch, convert the predicted logits to 0/1 labels...\n",
    "for i in range(len(predictions)):\n",
    "\n",
    "  # The predictions for this batch are a 2-column ndarray (one column for \"0\"\n",
    "  # and one column for \"1\"). Pick the label with the highest value and turn this\n",
    "  # in to a list of 0s and 1s.\n",
    "  pred_labels.append(np.argmax(predictions[i], axis=1).flatten())\n",
    "\n",
    "\n",
    "# For each input batch...\n",
    "for i in range(len(true_labels)):\n",
    "\n",
    "  # Calculate and store the coef for this batch.\n",
    "  matthews = matthews_corrcoef(true_labels[i], pred_labels[i])\n",
    "  matthews_set.append(matthews)"
   ]
  },
  {
   "cell_type": "code",
   "execution_count": 64,
   "metadata": {},
   "outputs": [
    {
     "name": "stderr",
     "output_type": "stream",
     "text": [
      "C:\\Users\\Xavior\\AppData\\Local\\Temp\\ipykernel_58148\\2646804597.py:2: FutureWarning: \n",
      "\n",
      "The `ci` parameter is deprecated. Use `errorbar=None` for the same effect.\n",
      "\n",
      "  ax = sns.barplot(x=list(range(len(matthews_set))), y=matthews_set, ci=None)\n"
     ]
    },
    {
     "data": {
      "image/png": "[encoded data removed]",
      "text/plain": [
       "<Figure size 1200x600 with 1 Axes>"
      ]
     },
     "metadata": {},
     "output_type": "display_data"
    }
   ],
   "source": [
    "# Create a barplot showing the MCC score for each batch of test samples.\n",
    "ax = sns.barplot(x=list(range(len(matthews_set))), y=matthews_set, ci=None)\n",
    "\n",
    "plt.title('MCC Score per Batch')\n",
    "plt.ylabel('MCC Score (-1 to +1)')\n",
    "plt.xlabel('Batch #')\n",
    "\n",
    "plt.show()"
   ]
  },
  {
   "cell_type": "code",
   "execution_count": 74,
   "metadata": {},
   "outputs": [
    {
     "data": {
      "text/plain": [
       "array([8, 5, 0, 8, 8, 8, 8, 8, 0, 8, 0, 7, 8, 0, 0, 8, 8, 0, 0, 0, 8, 8,\n",
       "       8, 8, 8, 8, 8, 8, 8, 8, 0, 8], dtype=int64)"
      ]
     },
     "execution_count": 74,
     "metadata": {},
     "output_type": "execute_result"
    }
   ],
   "source": [
    "pred_labels[2]"
   ]
  },
  {
   "cell_type": "code",
   "execution_count": 75,
   "metadata": {},
   "outputs": [
    {
     "data": {
      "text/plain": [
       "array([8, 5, 0, 8, 8, 8, 8, 8, 0, 8, 0, 7, 8, 0, 0, 8, 8, 0, 0, 0, 8, 8,\n",
       "       8, 8, 8, 8, 8, 8, 8, 8, 0, 8], dtype=int64)"
      ]
     },
     "execution_count": 75,
     "metadata": {},
     "output_type": "execute_result"
    }
   ],
   "source": [
    "true_labels[2]"
   ]
  },
  {
   "cell_type": "code",
   "execution_count": 69,
   "metadata": {},
   "outputs": [
    {
     "name": "stdout",
     "output_type": "stream",
     "text": [
      "Total MCC: 0.863\n"
     ]
    }
   ],
   "source": [
    "# Combine the results across all batches.\n",
    "flat_predictions = np.concatenate(predictions, axis=0)\n",
    "\n",
    "# For each sample, pick the label (0 or 1) with the higher score.\n",
    "flat_pred_labels = np.argmax(flat_predictions, axis=1).flatten()\n",
    "\n",
    "# Combine the correct labels for each batch into a single list.\n",
    "flat_true_labels = np.concatenate(true_labels, axis=0)\n",
    "\n",
    "# Calculate the MCC\n",
    "mcc = matthews_corrcoef(flat_true_labels, flat_pred_labels)\n",
    "\n",
    "print('Total MCC: %.3f' % mcc)"
   ]
  },
  {
   "cell_type": "code",
   "execution_count": 70,
   "metadata": {},
   "outputs": [],
   "source": [
    "#Saving your model.\n",
    "output_file = \"./model_bert_channels.pth\"\n",
    "\n",
    "def save(model, optimizer):\n",
    "    # save\n",
    "    torch.save({\n",
    "        'model_state_dict': model.state_dict(),\n",
    "        'optimizer_state_dict': optimizer.state_dict()\n",
    "    }, output_file)\n",
    "\n",
    "save(model, optimizer)\n"
   ]
  },
  {
   "cell_type": "code",
   "execution_count": null,
   "metadata": {},
   "outputs": [],
   "source": [
    "# #In the future, if you want to continue to work on this model, you can load it back in.\n",
    "# checkpoint = torch.load(output_file, map_location='cpu')\n",
    "# model.load_state_dict(checkpoint['model_state_dict'])\n",
    "# optimizer.load_state_dict(checkpoint['optimizer_state_dict'])"
   ]
  }
 ],
 "metadata": {
  "kernelspec": {
   "display_name": "Python 3",
   "language": "python",
   "name": "python3"
  },
  "language_info": {
   "codemirror_mode": {
    "name": "ipython",
    "version": 3
   },
   "file_extension": ".py",
   "mimetype": "text/x-python",
   "name": "python",
   "nbconvert_exporter": "python",
   "pygments_lexer": "ipython3",
   "version": "3.10.11"
  }
 },
 "nbformat": 4,
 "nbformat_minor": 2
}
